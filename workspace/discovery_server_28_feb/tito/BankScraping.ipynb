{
 "cells": [
  {
   "cell_type": "markdown",
   "metadata": {},
   "source": [
    "# Scrape the banking websites (7 June 2016)\n",
    "This notebook explains how to scrape all the banking sites, including for ATMs. Code for scraping each is included. The list is as follows:\n",
    "\n",
    "Branches:\n",
    "- ANZ (done)\n",
    "- ANZ (NZ) (done)\n",
    "- ASB (NZ) (done)\n",
    "- Aussie Home Loans (done)\n",
    "- Bank of Queensland\n",
    "- Bankwest (done)\n",
    "- BNZ (NZ)\n",
    "- Commonwealth Bank (done)\n",
    "- Kiwi Bank (NZ)\n",
    "- NAB\n",
    "- NAB Business Centres\n",
    "- Suncorp Bank\n",
    "- Westpac\n",
    "\n",
    "ATMS:\n",
    "- ANZ ATM'S (done)\n",
    "- ANZ ATM'S (NZ) (done)\n",
    "- ASB ATM'S (NZ) (done)\n",
    "- Bank of Queensland ATM's\n",
    "- Bankwest ATM's (done)\n",
    "- BNZ ATM'S (NZ)\n",
    "- Cashcard ATM's\n",
    "- CBA ATM'S\n",
    "- Kiwi Bank ATM'S (NZ)\n",
    "- NAB ATM'S\n",
    "- RediATM\n",
    "- Suncorp Bank ATM's\n",
    "- Westpac ATM's\n",
    "\n"
   ]
  },
  {
   "cell_type": "markdown",
   "metadata": {},
   "source": [
    "-----------------------------------\n",
    "### Useful functions\n",
    "These are just some general functions that are handy for dealing with strings, creating_meshes etc."
   ]
  },
  {
   "cell_type": "code",
   "execution_count": 1,
   "metadata": {
    "collapsed": true
   },
   "outputs": [],
   "source": [
    "# Clean a strip to remove line breaks etc.\n",
    "# remove all the tab spaces, line breaks and new lines from some text\n",
    "def clean_str(str1):\n",
    "    return str1.replace('\\t','').replace('\\r','').replace('\\n','')\n",
    "\n",
    "# Creates a mesh; mesh_width is the width of the grid. the max and min lat and lng values are based on those of Australia. If\n",
    "# looking at another country then just change these accordingly\n",
    "def make_mesh(mesh_width):\n",
    "    # lat, lng values to cover Australia\n",
    "    latMax = -10\n",
    "    latMin = -43.6\n",
    "    lngMax = 153.9\n",
    "    lngMin = 112.8\n",
    "    \n",
    "    # total number of cells in mesh\n",
    "    num_cells = mesh_width ** 2\n",
    "    \n",
    "    # the size of each block\n",
    "    latDif = (latMax - latMin) / mesh_width\n",
    "    lngDif = (lngMax - lngMin) / mesh_width\n",
    "    \n",
    "    # generate the lat, lng values for each block\n",
    "    meshblocks = []\n",
    "    \n",
    "    for i in range(0, num_cells):\n",
    "    # which row and column of the grid we are in\n",
    "        ix0 = i % mesh_width\n",
    "        ix1 = i % mesh_width + 1\n",
    "        iy0 = i / mesh_width\n",
    "        iy1 = i / mesh_width + 1\n",
    "        latLower = latMin + float(iy0) * latDif\n",
    "        latUpper = latMin + float(iy1) * latDif\n",
    "        lngWest = lngMin + float(ix0) * lngDif\n",
    "        lngEast = lngMin + float(ix1) * lngDif \n",
    "        meshblocks.append( {\"upperLatitude\": latUpper, \"lowerLatitude\": latLower, \n",
    "                      \"eastLongitude\": lngEast, \"westLongitude\": lngWest} )\n",
    "        \n",
    "    return meshblocks\n",
    "\n",
    "# cover a rectangle with a disc\n",
    "def rect_discs(rect):\n",
    "    latMin, latMax = rect[0], rect[1]\n",
    "    lngMin, lngMax = rect[2], rect[3]\n",
    "    # centre\n",
    "    latCentre = 0.5 * (latMin + latMax)\n",
    "    lngCentre = 0.5 * (lngMin + lngMax)\n",
    "    # upper right and lower left hand corner\n",
    "    ne = (latMax, lngMax)\n",
    "    sw = (latMin, lngMin)\n",
    "    # find the distance between pairs of opposite sides of the rectangle\n",
    "    radius = calc_dist(sw[0], ne[0], sw[1], ne[1])\n",
    "    # return a circle with centre points and radius distLat (so the disc is large enough to cover the rectangle)\n",
    "    return (latCentre, lngCentre, radius)\n",
    "    \n",
    "# Creates a mesh consisting of discs that cover a given region. Useful for sites that require (lat, lng) and radius specified\n",
    "def make_discmesh(mesh_width):\n",
    "    # first make a mesh of rectangles, then cover each with four discs.\n",
    "    blocks = make_mesh(mesh_width)\n",
    "    discs = []\n",
    "    "
   ]
  },
  {
   "cell_type": "markdown",
   "metadata": {},
   "source": [
    "### Function to calculate the lat,lng co-ordinates when moving a certain number of metres from existing lat, lng\n",
    "\n",
    "Note that this is very rough, e.g., it assumes a spherical earth, so should not be used if accuracy is important"
   ]
  },
  {
   "cell_type": "code",
   "execution_count": 2,
   "metadata": {
    "collapsed": false
   },
   "outputs": [],
   "source": [
    "from math import asin, sin, cos, acos, pi, floor\n",
    "from math import radians, degrees\n",
    "\n",
    "# calculate the cosine of the angle between two lat, lng values\n",
    "def cosang( lat0, lng0, lat1, lng1 ):\n",
    "    lat0, lng0, lat1, lng1 = radians(lat0), radians(lng0), radians(lat1), radians(lng1)\n",
    "    return ( cos(lat0) * cos(lat1) * cos(lng0 - lng1) + sin(lat0) * sin(lat1) )\n",
    "\n",
    "# calculate the distance (in metres) between two points with lat, lng values of (lat0, lng0), (lat1, lng1) respectively.\n",
    "# these are in degrees\n",
    "def calc_dist(lat0, lng0, lat1, lng1):\n",
    "    circ_earth = 40075 * 1000\n",
    "    ang = acos( cosang( lat0, lng0, lat1, lng1 ) )\n",
    "    return (ang * float(circ_earth) / (2 * pi) )\n",
    "\n",
    "# don't need these anymore\n",
    "def deg_to_rad(deg):\n",
    "    return float(deg) * 2 * pi / float(360)\n",
    "\n",
    "def rad_to_deg(rad):\n",
    "    return float(rad) * float(360) / (2 * pi)\n",
    "\n",
    "# take an angle, in radians, and output an angle between 0 and 2pi\n",
    "def radmod(rad):\n",
    "    k = floor( rad / (2 * pi) )\n",
    "    return (rad - 2 * pi * k)\n",
    "\n",
    "# This function gives the new lat, lng values if we\n",
    "# move a distance d (in radians) at an angle tc\n",
    "# from the original point\n",
    "# Note: tc is true course which is in radians counter clockwise from North. \n",
    "# Important: The input and output angles must be in radians and the output is in radians\n",
    "def get_latlng(lat_old, lng_old, d, tc):\n",
    "    lat = asin(sin(lat_old)*cos(d)+cos(lat_old)*sin(d)*cos(tc))\n",
    "    if cos(lat_old) == 0:\n",
    "        lng = lon_old\n",
    "    else:\n",
    "        lng = radmod(lng_old-asin(sin(tc)*sin(d)/cos(lng_old))+pi)-pi\n",
    "    return (lat, lng)\n"
   ]
  },
  {
   "cell_type": "code",
   "execution_count": 3,
   "metadata": {
    "collapsed": false
   },
   "outputs": [
    {
     "ename": "NameError",
     "evalue": "name 'lat' is not defined",
     "output_type": "error",
     "traceback": [
      "\u001b[1;31m---------------------------------------------------------------------------\u001b[0m",
      "\u001b[1;31mNameError\u001b[0m                                 Traceback (most recent call last)",
      "\u001b[1;32m<ipython-input-3-b238c1089933>\u001b[0m in \u001b[0;36m<module>\u001b[1;34m()\u001b[0m\n\u001b[1;32m----> 1\u001b[1;33m \u001b[0mget_latlng\u001b[0m\u001b[1;33m(\u001b[0m\u001b[0mlat\u001b[0m\u001b[1;33m,\u001b[0m \u001b[0mlng\u001b[0m\u001b[1;33m,\u001b[0m \u001b[1;36m0\u001b[0m\u001b[1;33m/\u001b[0m \u001b[1;36m40000\u001b[0m\u001b[1;33m,\u001b[0m \u001b[0mpi\u001b[0m \u001b[1;33m/\u001b[0m \u001b[1;36m4\u001b[0m\u001b[1;33m)\u001b[0m\u001b[1;33m\u001b[0m\u001b[0m\n\u001b[0m",
      "\u001b[1;31mNameError\u001b[0m: name 'lat' is not defined"
     ]
    }
   ],
   "source": [
    "get_latlng(lat, lng, 0/ 40000, pi / 4)"
   ]
  },
  {
   "cell_type": "markdown",
   "metadata": {},
   "source": [
    "### Data specific to Australia\n",
    "Some useful data specific to Australia"
   ]
  },
  {
   "cell_type": "code",
   "execution_count": 4,
   "metadata": {
    "collapsed": true
   },
   "outputs": [],
   "source": [
    "latMax = -10\n",
    "latMin = -43.6\n",
    "lngMax = 153.9\n",
    "lngMin = 112.8\n",
    "\n",
    "# roughly the centre of Australia\n",
    "[lat_centre, lng_centre] = [-27.297927, 134.626141]\n",
    "# radius needed for disc at centre to cover Australia\n",
    "radius = 3000"
   ]
  },
  {
   "cell_type": "markdown",
   "metadata": {},
   "source": [
    "# Banks and code for scraping each\n",
    "---------------------------------------------------------\n",
    "\n",
    "Below is the code for scraping each of the banks in the data refresh"
   ]
  },
  {
   "cell_type": "code",
   "execution_count": null,
   "metadata": {
    "collapsed": true
   },
   "outputs": [],
   "source": []
  },
  {
   "cell_type": "markdown",
   "metadata": {},
   "source": [
    "### ANZ and ANZ ATMs\n",
    "\n",
    "We can do this in single request, we just have to make sure that the value associated with the \"cluster\" key is empty,\n",
    "and that the bbox value describes a box bounding all of Australia."
   ]
  },
  {
   "cell_type": "code",
   "execution_count": 5,
   "metadata": {
    "collapsed": false
   },
   "outputs": [
    {
     "ename": "UnicodeEncodeError",
     "evalue": "'ascii' codec can't encode character u'\\u2013' in position 258752: ordinal not in range(128)",
     "output_type": "error",
     "traceback": [
      "\u001b[1;31m---------------------------------------------------------------------------\u001b[0m",
      "\u001b[1;31mUnicodeEncodeError\u001b[0m                        Traceback (most recent call last)",
      "\u001b[1;32m<ipython-input-5-a9106695032d>\u001b[0m in \u001b[0;36m<module>\u001b[1;34m()\u001b[0m\n\u001b[0;32m     28\u001b[0m \u001b[1;33m\u001b[0m\u001b[0m\n\u001b[0;32m     29\u001b[0m \u001b[0mf\u001b[0m \u001b[1;33m=\u001b[0m \u001b[0mopen\u001b[0m\u001b[1;33m(\u001b[0m\u001b[1;34m'anzoutput-150616.txt'\u001b[0m\u001b[1;33m,\u001b[0m\u001b[1;34m'w'\u001b[0m\u001b[1;33m)\u001b[0m\u001b[1;33m\u001b[0m\u001b[0m\n\u001b[1;32m---> 30\u001b[1;33m \u001b[0mf\u001b[0m\u001b[1;33m.\u001b[0m\u001b[0mwrite\u001b[0m\u001b[1;33m(\u001b[0m\u001b[0mdata_nice\u001b[0m\u001b[1;33m)\u001b[0m\u001b[1;33m\u001b[0m\u001b[0m\n\u001b[0m\u001b[0;32m     31\u001b[0m \u001b[0mf\u001b[0m\u001b[1;33m.\u001b[0m\u001b[0mclose\u001b[0m\u001b[1;33m(\u001b[0m\u001b[1;33m)\u001b[0m\u001b[1;33m\u001b[0m\u001b[0m\n",
      "\u001b[1;31mUnicodeEncodeError\u001b[0m: 'ascii' codec can't encode character u'\\u2013' in position 258752: ordinal not in range(128)"
     ]
    }
   ],
   "source": [
    "# Scrape ANZ\n",
    "import requests\n",
    "import json\n",
    "\n",
    "url = 'http://data.nowwhere.com.au/v3/features/ANZ_AUST'\n",
    "\n",
    "# so we get all of Australia\n",
    "bbox = str(lngMin) + \" \" + str(latMin) + \" \" + str(lngMax) + \" \" + str(latMax)\n",
    "\n",
    "# to get branches have 'filter': '(branch = 1 OR agency = 1)', to get ATMs have 'filter': '(atm = 1)'\n",
    "params_anz = {\"callback\": \"MapDS.CallBacks[1465646976932]\", \"key\": \"3o1J357b26JS9yW2Tw5ULCxfiCwRg13XRyQbv23H\", \n",
    "         \"sortby\": \"distance\", \"filter\": \"(branch = 1 OR agency = 1)\", \"cluster\": \"\", \n",
    "          \"bbox\": bbox,\n",
    "         \"enc\": \"true\", \"nocache\": \"1465646874943\"}\n",
    "\n",
    "headers_anz = {\"Referer\": \"http://www.locate.anz.com/anz/australia\", \"Cookie\": \"_ga=GA1.3.1897809232.1463645139\"}\n",
    "           \n",
    "#, \"Host\": \"data.nowwhere.com.au\",\n",
    "#          \"User-Agent\": \"Mozilla/5.0 (Macintosh; Intel Mac OS X 10.11; rv:47.0) Gecko/20100101 Firefox/47.0\",\n",
    "#          \"Accept\": \"*/*\", \"Accept-Language\": \"en-US,en;q=0.5\", \"Accept-Encoding\": \"gzip, deflate\",\n",
    "#          \"Cookie\": \"_ga=GA1.3.1897809232.1463645139\", \"Connection\": \"keep-alive\"}\n",
    "\n",
    "page = requests.get(url, params=params_anz, headers=headers_anz)\n",
    "\n",
    "data_nice = page.content[31:-1].decode('utf-8')\n",
    "\n",
    "# write file\n",
    "\n",
    "f = open('anzoutput-150616.txt','w')\n",
    "f.write(data_nice)\n",
    "f.close()"
   ]
  },
  {
   "cell_type": "code",
   "execution_count": 9,
   "metadata": {
    "collapsed": false
   },
   "outputs": [
    {
     "data": {
      "text/plain": [
       "721"
      ]
     },
     "execution_count": 9,
     "metadata": {},
     "output_type": "execute_result"
    }
   ],
   "source": [
    "data_nice.count('uuid')"
   ]
  },
  {
   "cell_type": "markdown",
   "metadata": {},
   "source": [
    "### ANZ (New Zealand) and their ATMs\n",
    "url: http://data.nowwhere.com.au/v3/features/ANZ_NZ\n",
    "\n",
    "- filter: 'branch = 1 AND company = \"ANZ\" AND active = \"1\"'\n",
    "- cluster: ''\n",
    "- IMPORTANT: must have headers"
   ]
  },
  {
   "cell_type": "code",
   "execution_count": null,
   "metadata": {
    "collapsed": true
   },
   "outputs": [],
   "source": [
    "# data specific for New Zealand\n",
    "bbox = '161.63658756250004 -47.83563888665546 179.999 -32.612062461269474'"
   ]
  },
  {
   "cell_type": "code",
   "execution_count": 13,
   "metadata": {
    "collapsed": false
   },
   "outputs": [],
   "source": [
    "import requests\n",
    "\n",
    "url = 'http://data.nowwhere.com.au/v3/features/ANZ_NZ'\n",
    "\n",
    "params = {'callback': 'MapDS.CallBacks[1465859021873]', 'key': '6na99llr46W2K42jB3lAG563kiNEuD5zn3jqj8u9',\n",
    "         'sortby': 'distance', 'filter': 'branch = 1 AND company = \"ANZ\" AND active = \"1\"', 'cluster': '',\n",
    "         'bbox': '161.63658756250004 -47.83563888665546 179.999 -32.612062461269474', 'enc': 'true', \n",
    "         'nocache': '1465859001262'}\n",
    "\n",
    "headers = {'Host': 'data.nowwhere.com.au', 'Referer': 'http://www.locate.anz.com/anz/newzealand/', \n",
    "           'Accept-Encoding': 'gzip, deflate', 'Cookie': '_ga=GA1.3.2090984877.1450660365', \n",
    "           'Accept-Language': 'en-US,en;q=0.5', 'Connection': 'keep-alive', 'Accept': '*/*', \n",
    "           'User-Agent': 'Mozilla/5.0 (Macintosh; Intel Mac OS X 10.11; rv:47.0) Gecko/20100101 Firefox/47.0'}\n",
    "          \n",
    "r = requests.get(url, params=params, headers=headers)\n",
    "output = r.text"
   ]
  },
  {
   "cell_type": "code",
   "execution_count": 14,
   "metadata": {
    "collapsed": false
   },
   "outputs": [
    {
     "name": "stdout",
     "output_type": "stream",
     "text": [
      "Found 220 sites\n"
     ]
    }
   ],
   "source": [
    "# how many site have we found\n",
    "print(\"Found %d branches\"%output.count('displayname'))"
   ]
  },
  {
   "cell_type": "code",
   "execution_count": 15,
   "metadata": {
    "collapsed": true
   },
   "outputs": [],
   "source": [
    "# for ATMS\n",
    "import requests\n",
    "\n",
    "url = 'http://data.nowwhere.com.au/v3/features/ANZ_NZ'\n",
    "\n",
    "params = {'callback': 'MapDS.CallBacks[1465860238418]', 'key': '6na99llr46W2K42jB3lAG563kiNEuD5zn3jqj8u9',\n",
    "         'sortby': 'distance', 'filter': 'atm = 1 AND active = \"1\"', 'cluster': '',\n",
    "         'bbox': '161.63658756250004 -47.83563888665546 179.999 -32.612062461269474', 'enc': 'true', \n",
    "         'nocache': '1465859001262'}\n",
    "\n",
    "headers = {'Host': 'data.nowwhere.com.au', 'Referer': 'http://www.locate.anz.com/anz/newzealand/', \n",
    "           'Accept-Encoding': 'gzip, deflate', 'Cookie': '_ga=GA1.3.2090984877.1450660365', \n",
    "           'Accept-Language': 'en-US,en;q=0.5', 'Connection': 'keep-alive', 'Accept': '*/*', \n",
    "           'User-Agent': 'Mozilla/5.0 (Macintosh; Intel Mac OS X 10.11; rv:47.0) Gecko/20100101 Firefox/47.0'}\n",
    "          \n",
    "r = requests.get(url, params=params, headers=headers)\n",
    "output = r.text"
   ]
  },
  {
   "cell_type": "code",
   "execution_count": 16,
   "metadata": {
    "collapsed": false
   },
   "outputs": [
    {
     "name": "stdout",
     "output_type": "stream",
     "text": [
      "Found 666 ATMs\n"
     ]
    }
   ],
   "source": [
    "# how many ATMs have we found\n",
    "print(\"Found %d ATMs\"%output.count('displayname'))"
   ]
  },
  {
   "cell_type": "markdown",
   "metadata": {},
   "source": [
    "### ASB (branches and ATMs)\n",
    "GET request to\n",
    "\n",
    "url: 'https://api.asb.co.nz/public/v1/locations?view=GeoSummary'\n",
    "\n",
    "headers = {'Accept': 'application/json, text/plain, */*', 'Accept-Encoding': 'gzip, deflate, sdch, br',\n",
    "'Accept-Language': 'en-US,en;q=0.8', 'apikey': 'l7xx106c7605d7f34e30af0017ca9c69be51', 'Connection': 'keep-alive',\n",
    "'Host': 'api.asb.co.nz', 'Origin': 'https://www.asb.co.nz', 'Referer': 'https://www.asb.co.nz/tools/branchandatmlocator/location',\n",
    "'User-Agent': 'Mozilla/5.0 (Windows NT 10.0; WOW64) AppleWebKit/537.36 (KHTML, like Gecko) Chrome/51.0.2704.84 Safari/537.36'}\n",
    "\n",
    "- ATMs have \"type\": \"atm\" (use ATMId as site reference?)\n",
    "- Branches have \"type\": \"branch\" (site reference is 'BranchNumber')"
   ]
  },
  {
   "cell_type": "code",
   "execution_count": 19,
   "metadata": {
    "collapsed": true
   },
   "outputs": [],
   "source": [
    "import requests\n",
    "\n",
    "url = 'https://api.asb.co.nz/public/v1/locations?view=GeoSummary'\n",
    "\n",
    "headers = {'Accept': 'application/json, text/plain, */*', 'Accept-Encoding': 'gzip, deflate, sdch, br',\n",
    "'Accept-Language': 'en-US,en;q=0.8', 'apikey': 'l7xx106c7605d7f34e30af0017ca9c69be51', 'Connection': 'keep-alive',\n",
    "'Host': 'api.asb.co.nz', 'Origin': 'https://www.asb.co.nz', 'Referer': 'https://www.asb.co.nz/tools/branchandatmlocator/location',\n",
    "'User-Agent': 'Mozilla/5.0 (Windows NT 10.0; WOW64) AppleWebKit/537.36 (KHTML, like Gecko) Chrome/51.0.2704.84 Safari/537.36'}\n",
    "\n",
    "r = requests.get(url, headers=headers)\n",
    "output = r.text"
   ]
  },
  {
   "cell_type": "code",
   "execution_count": 20,
   "metadata": {
    "collapsed": false
   },
   "outputs": [
    {
     "name": "stdout",
     "output_type": "stream",
     "text": [
      "Found 358 ATMs and 133 branches\n"
     ]
    }
   ],
   "source": [
    "# show the number of branches and ATMs\n",
    "print(\"Found %d ATMs and %d branches\" % ( output.count('\"type\":\"atm\"'), output.count('\"type\":\"branch\"')))"
   ]
  },
  {
   "cell_type": "markdown",
   "metadata": {},
   "source": [
    "### Aussie Home Loans\n",
    "\n",
    "GET requests (HTML)\n",
    "\n",
    "Nested multiple URL scrape:\n",
    "- get the urls from urls of the form 'http://www.aussie.com.au/find-store/[state].html' where [state] = 'nsw', 'vic', 'qld', \n",
    "'nt', 'wa', 'tas', 'sa', 'act'\n",
    "- Then at each of these URLs we want all links '/find-store/[state]/[suburb].html'\n",
    "\n",
    "\n",
    "ACTUALLY JUST NEED to scrape all URLs from single url, e.g., 'http://www.aussie.com.au/find-store/nsw.html'"
   ]
  },
  {
   "cell_type": "code",
   "execution_count": 76,
   "metadata": {
    "collapsed": false
   },
   "outputs": [
    {
     "name": "stdout",
     "output_type": "stream",
     "text": [
      "Found 187 locations\n"
     ]
    },
    {
     "data": {
      "text/plain": [
       "'http://www.aussie.com.au/find-store/nsw.html'"
      ]
     },
     "execution_count": 76,
     "metadata": {},
     "output_type": "execute_result"
    }
   ],
   "source": [
    "import requests\n",
    "from lxml import html\n",
    "import pandas as pd\n",
    "\n",
    "url = 'http://www.aussie.com.au/find-store/nsw.html'\n",
    "\n",
    "# this is the path to specify to get the urls (similar to the data hierarchy in the Official GapMaps Webscraper)\n",
    "path = './/ul[@class=\"panel-collapse collapse in\"]//li//a'\n",
    "\n",
    "# scrape the page\n",
    "page = requests.get(url)\n",
    "\n",
    "# parse the html to get the tree\n",
    "tree = html.fromstring(page.content)\n",
    "\n",
    "# now get all the urls and return the list\n",
    "url_items = tree.findall(path)\n",
    "\n",
    "# Now read off the urls\n",
    "urls = []\n",
    "for i in url_items:\n",
    "    urls.append(i.get('href'))\n",
    "\n",
    "# how many locations\n",
    "print('Found %d locations' % len(urls) )\n",
    "\n",
    "# the paths for the address and phone information of each site\n",
    "path_addr = './/h2[@class=\"first-heading\"]'\n",
    "path_phone = './/div[@class=\"component-freetext\"]//table//tr//td[@class=\"col-sm-3 col-md-3 col-lg-3\"]//a//span'\n",
    "\n",
    "url_base = 'http://www.aussie.com.au'\n",
    "\n",
    "list_addr = []\n",
    "list_phone = []\n",
    "\n",
    "# now for each of the urls in urls, scrape the information\n",
    "\n",
    "for i in urls:\n",
    "    url = url_base + i\n",
    "    page = requests.get(url)\n",
    "    print(\"Scraping data from URL: %s\" % url)\n",
    "    tree = html.fromstring(page.text)\n",
    "    addr = tree.findall(path_addr)\n",
    "    phone = tree.findall(path_phone)\n",
    "    list_addr.append( addr[0].text )\n",
    "    list_phone.append( phone[0].text )\n",
    "    \n",
    "# Now output the data in a nice, delimited csv\n",
    "data = {'url': urls, 'address': list_addr, 'phone': list_phone}\n",
    "df1 = pd.DataFrame(data=data)\n",
    "df1.to_csv('out-aussiehomeloands.csv', sep=',')\n"
   ]
  },
  {
   "cell_type": "markdown",
   "metadata": {},
   "source": [
    "### Bank of Queensland"
   ]
  },
  {
   "cell_type": "code",
   "execution_count": null,
   "metadata": {
    "collapsed": true
   },
   "outputs": [],
   "source": []
  },
  {
   "cell_type": "markdown",
   "metadata": {},
   "source": [
    "-----------\n",
    "### BNZ\n",
    "\n",
    "HTML request\n",
    "\n",
    "Get the regions at\n",
    "https://www.bnz.co.nz/locations\n",
    "\n",
    "Start at 'li class=\"findlanding_browse_section_item\"><a href=\"' \n",
    "\n",
    "end at '\"'\n",
    "\n",
    "Then for each URL we want ANOTHER URL found between\n",
    "'a href=\"/locations/'\n",
    "and\n",
    "'\"'"
   ]
  },
  {
   "cell_type": "code",
   "execution_count": 7,
   "metadata": {
    "collapsed": false
   },
   "outputs": [
    {
     "name": "stdout",
     "output_type": "stream",
     "text": [
      "https://www.bnz.co.nz/locationswellingtonlocations/wellington#content\n",
      "https://www.bnz.co.nz/locationscanterburylocations/canterbury#content\n",
      "https://www.bnz.co.nz/locationswaikatolocations/waikato#content\n",
      "https://www.bnz.co.nz/locationsaucklandlocations/auckland#content\n",
      "https://www.bnz.co.nz/locationsmanawatu-wanganuilocations/manawatu-wanganui#content\n",
      "https://www.bnz.co.nz/locationsnorthlandlocations/northland#content\n",
      "https://www.bnz.co.nz/locationsbay-of-plentylocations/bay-of-plenty#content\n",
      "https://www.bnz.co.nz/locationshawkes-baylocations/hawkes-bay#content\n",
      "https://www.bnz.co.nz/locationstaranakilocations/taranaki#content\n",
      "https://www.bnz.co.nz/locationsgisbornelocations/gisborne#content\n",
      "https://www.bnz.co.nz/locationssouthlandlocations/southland#content\n",
      "https://www.bnz.co.nz/locationswest-coastlocations/west-coast#content\n",
      "https://www.bnz.co.nz/locationsotagolocations/otago#content\n",
      "https://www.bnz.co.nz/locationstasman-nelson-marlboroughlocations/tasman-nelson-marlborough#content\n"
     ]
    }
   ],
   "source": [
    "import requests\n",
    "\n",
    "url_main = 'https://www.bnz.co.nz/locations'\n",
    "\n",
    "path_addr = './/h2[@class=\"first-heading\"]'\n",
    "path_phone = './/div[@class=\"component-freetext\"]//table//tr//td[@class=\"col-sm-3 col-md-3 col-lg-3\"]//a//span'\n",
    "\n",
    "# firstly get the URLs for each of the regions\n",
    "path_reg = './/ul'\n",
    "        "
   ]
  },
  {
   "cell_type": "code",
   "execution_count": 36,
   "metadata": {
    "collapsed": false
   },
   "outputs": [
    {
     "name": "stdout",
     "output_type": "stream",
     "text": [
      "/locations/wellington\n",
      "https://www.bnz.co.nz\n",
      "locations/tasman-nelson-marlborough#content\n"
     ]
    }
   ],
   "source": [
    "print(url_reg)\n",
    "print(url_base)"
   ]
  },
  {
   "cell_type": "markdown",
   "metadata": {},
   "source": [
    "---------------\n",
    "### CBA \n",
    "For finding locations of branches:\n",
    "- URL: http://service.commbank.com.au/locate-us/default.aspx/GetLocationsBySuburb\n",
    "- json data: {\"state\":\"NSW\",\"suburb\":\"Corrimal\"}\n",
    "\n",
    "For finding locations of ATMs:\n",
    "- URL: http://service.commbank.com.au/locate-us/default.aspx/GetLocationsForBranchesATMs\n",
    "- json data: {\"searchCriteria\":\"{\\\"IsBranches\\\":false,\\\"IsATMs\\\":true,\\\"Street\\\":\\\"\\\",\\\"SuburbOrPostCode\\\":\\\"VIC, Carlton, 3053\\\",\\\"FacilitiesList\\\":\\\"\\\",\\\"ATMFeaturesList\\\":\\\"\\\",\\\"IsWeekendTrading\\\":false,\\\"CentreLatitude\\\":-37.798389,\\\"CentreLongitude\\\":144.96944410000003}\",\"bounds\":\"\"}\n",
    "\n",
    "Need to make a request for each suburb in Australia (~16000 requests)"
   ]
  },
  {
   "cell_type": "code",
   "execution_count": 140,
   "metadata": {
    "collapsed": false
   },
   "outputs": [],
   "source": [
    "import pandas as pd\n",
    "\n",
    "# For finding the \n",
    "url = 'http://service.commbank.com.au/locate-us/default.aspx/GetLocationsForBranchesATMs'\n",
    "data = {\"searchCriteria\":\"{\\\"IsBranches\\\":false,\\\"IsATMs\\\":true,\\\"Street\\\":\\\"\\\",\\\"SuburbOrPostCode\\\":\\\"VIC, Carlton, 3053\\\",\\\"FacilitiesList\\\":\\\"\\\",\\\"ATMFeaturesList\\\":\\\"\\\",\\\"IsWeekendTrading\\\":false,\\\"CentreLatitude\\\":-37.798389,\\\"CentreLongitude\\\":144.96944410000003}\",\"bounds\":\"\"}\n",
    "\n",
    "outdata = ''\n",
    "\n",
    "# Read in the list of postcodes and states\n",
    "state_postcode = pd.read_csv('Australian_Post_Codes_Lat_Lon.csv',sep=',')\n",
    "states, suburbs = list(state_postcode[['state']].values[:,0]), list(state_postcode[['suburb']].values[:,0])\n",
    "lats, lngs = list(state_postcode[['lat']].values[:,0]), list(state_postcode[['lon']].values[:,0])\n",
    "pcs = list(state_postcode[['postcode']].values[:,0])\n",
    "\n",
    "# run through the list of suburb, state pairs and make a request for each\n",
    "num_pairs = len(states)\n",
    "\n",
    "for i in range(0, 10):\n",
    "    state = states[i]\n",
    "    suburb = suburbs[i]\n",
    "    lat, lng = lats[i], lngs[i]\n",
    "    postcode = pcs[i]\n",
    "    SuburbOrPostCode = str(state) + \", \" + str(suburb) + \", \" + str(postcode)\n",
    "    page = requests.post(url, json=data)\n",
    "    num_sites = page.content.count('\"Latitude')\n",
    "    outdata += page.content\n",
    "    "
   ]
  },
  {
   "cell_type": "markdown",
   "metadata": {},
   "source": [
    "--------------------\n",
    "### Kiwi Bank"
   ]
  },
  {
   "cell_type": "markdown",
   "metadata": {},
   "source": [
    "-------------------------\n",
    "### NAB "
   ]
  },
  {
   "cell_type": "markdown",
   "metadata": {},
   "source": [
    "-------------------------------\n",
    "### NAB Business Centres "
   ]
  },
  {
   "cell_type": "markdown",
   "metadata": {},
   "source": [
    "------------------\n",
    "### Suncorp "
   ]
  },
  {
   "cell_type": "markdown",
   "metadata": {},
   "source": [
    "------------------------\n",
    "### Westpac "
   ]
  },
  {
   "cell_type": "markdown",
   "metadata": {},
   "source": [
    "--------------------------\n",
    "### RediATM \n",
    "GET request to \n",
    "URL = https://www.ehoundplatform.com/api/1.1/proximity_search\n",
    "params = {\"output\": \"json\", \"jsonp\": \"showLocs\", \"lat\": -37.819, \"lon\": 145.1534, \"count\": 10000, \"geo\": \"undefined\", \n",
    "\"service\": \"undefined\", \"max_distance\": 0, \"filters\": \"extra:eq:rediatm\", \"logic\": \"\", \"log_type\": \"web\", \"create_log\": \"true\",\n",
    "\"api_key\": \"ra3354a55qw79up\", \"custom_logic\": \"undefined\", \"ch\": 5568}\n",
    "\n",
    "'Count' seems to max out at 100\n",
    "\n",
    "Recursive scrape"
   ]
  },
  {
   "cell_type": "code",
   "execution_count": 37,
   "metadata": {
    "collapsed": true
   },
   "outputs": [],
   "source": [
    "url = 'https://www.ehoundplatform.com/api/1.1/proximity_search'\n",
    "\n",
    "params = {\"output\": \"json\", \"jsonp\": \"showLocs\", \"lat\": -37.819, \"lon\": 145.1534, \"count\": 10000, \"geo\": \"undefined\", \n",
    "\"service\": \"undefined\", \"max_distance\": 0, \"filters\": \"extra:eq:rediatm\", \"logic\": \"\", \"log_type\": \"web\", \"create_log\": \"true\",\n",
    "\"api_key\": \"ra3354a55qw79up\", \"custom_logic\": \"undefined\", \"ch\": 5568}"
   ]
  },
  {
   "cell_type": "code",
   "execution_count": 40,
   "metadata": {
    "collapsed": false
   },
   "outputs": [
    {
     "name": "stdout",
     "output_type": "stream",
     "text": [
      "14401\n"
     ]
    }
   ],
   "source": [
    "r = requests.get(url, params=params)\n",
    "print(len(r.content))"
   ]
  },
  {
   "cell_type": "code",
   "execution_count": 74,
   "metadata": {
    "collapsed": false
   },
   "outputs": [
    {
     "name": "stdout",
     "output_type": "stream",
     "text": [
      "143986\n"
     ]
    }
   ],
   "source": [
    "url = 'https://www.ehoundplatform.com/api/1.1/proximity_search'\n",
    "params = {\"output\": \"json\", \"jsonp\": \"showLocs\", \"lat\": -37.819, \"lon\": 145.1534, \"count\": 100, \"geo\": \"undefined\", \n",
    "\"service\": \"undefined\", \"max_distance\": 1000, \"filters\": \"extra:eq:rediatm\", \"logic\": \"\", \"log_type\": \"web\", \"create_log\": \"true\",\n",
    "\"api_key\": \"ra3354a55qw79up\", \"custom_logic\": \"undefined\", \"ch\": 5568}\n",
    "r = requests.get(url, params=params)\n",
    "print(len(r.content))"
   ]
  },
  {
   "cell_type": "code",
   "execution_count": 75,
   "metadata": {
    "collapsed": false
   },
   "outputs": [
    {
     "name": "stdout",
     "output_type": "stream",
     "text": [
      "100\n"
     ]
    }
   ],
   "source": [
    "print(r.content.count('loc_id'))"
   ]
  },
  {
   "cell_type": "code",
   "execution_count": 79,
   "metadata": {
    "collapsed": false
   },
   "outputs": [],
   "source": [
    "out_data = ''\n",
    "\n",
    "# Divide a rectangle along the shortest direction (rect is a list of length 4 [upperLat, lowerLat, eastLng, westLng]), return\n",
    "# two new rectangles\n",
    "def nicedivide_rect(rect):\n",
    "    upperLat = rect[0]\n",
    "    lowerLat = rect[1]\n",
    "    eastLng = rect[2]\n",
    "    westLng = rect[3]\n",
    "    \n",
    "    latdif = upperLat - lowerLat\n",
    "    lngdif = eastLng - westLng\n",
    "    \n",
    "    # check to see which is the shorter side of the rectangle and divide in two along this side\n",
    "    if lngdif > latdif:\n",
    "        eastLng1 = eastLng\n",
    "        westLng1 = 0.5 * (eastLng + westLng)\n",
    "        lowerLat1 = lowerLat\n",
    "        upperLat1 = upperLat\n",
    "        \n",
    "        eastLng2 = 0.5 * (eastLng + westLng)\n",
    "        westLng2 = westLng\n",
    "        lowerLat2 = lowerLat\n",
    "        upperLat2 = upperLat\n",
    "    else:\n",
    "        eastLng1 = eastLng\n",
    "        westLng1 = westLng\n",
    "        lowerLat1 = lowerLat\n",
    "        upperLat1 = 0.5 * (lowerLat + upperLat)\n",
    "        \n",
    "        eastLng2 = eastLng\n",
    "        westLng2 = westLng\n",
    "        lowerLat2 = 0.5 * (lowerLat + upperLat)\n",
    "        upperLat2 = upperLat\n",
    "        \n",
    "    return [ [upperLat1, lowerLat1, eastLng1, westLng1], [upperLat2, lowerLat2, eastLng2, westLng2]]\n",
    "\n",
    "def get_locs(url, rect, data):\n",
    "    r = requests.post(url, params=params, json=data)\n",
    "    output = r.content\n",
    "    num_sites = output.count('\"loc_id\":')\n",
    "    if num_sites < 100:\n",
    "        outdata += output\n",
    "        print(\"Found %d locations\"%num_sites)\n",
    "    else:\n",
    "        [rect1, rect2] = nicedivide_rect( rect )\n",
    "        get_locs(url, rect1, data)\n",
    "        get_locs(url, rect2, data)"
   ]
  },
  {
   "cell_type": "markdown",
   "metadata": {},
   "source": [
    "-------------------------------------------------\n",
    "### BankWest recursive scraping\n",
    "\n",
    "The function get_locs recursively scrapes the BankWest website. You give it an initial rectangle in which to search for locations. If there are less than 100 in the rectangle then it is done, otherwise it makes two calls to itself, one for each half of the original rectangle. This repeats until it has found all the locations.\n",
    "\n",
    "To search for ATMS, Branches or Business Banking Centres change the 'searchType' parameter to: 'ATM', 'STO' and 'BBC' respectively. You can input any subset of these"
   ]
  },
  {
   "cell_type": "code",
   "execution_count": 103,
   "metadata": {
    "collapsed": false
   },
   "outputs": [],
   "source": [
    "import requests\n",
    "\n",
    "# max and min lats and lngs for Australia\n",
    "latMax = -10\n",
    "latMin = -43.6\n",
    "lngMax = 153.9\n",
    "lngMin = 112.8\n",
    "    \n",
    "# URL for website\n",
    "url = 'http://www.bankwest.com.au/Locator/Service/Locator.asmx/BoundedLocations'\n",
    "\n",
    "# initialise some parameters\n",
    "params = {\"latitude\":-31.9535959,\"longitude\":115.85701180000001,\"latitudeNorthEast\":-31.931745692621774, \n",
    "                  \"longitudeNorthEast\":115.91108513374024,\"latitudeSouthWest\":-31.975440911111626,\n",
    "                  \"longitudeSouthWest\":115.80293846625977, \"searchType\":[\"ATM\"],\"searchFacilities\":[],\n",
    "                  \"numberOfOutOfRangeLocations\":0}\n",
    "\n",
    "# to keep track of the counts when we have found a rectangle with less than 100 locations.\n",
    "counts = []\n",
    "data = []\n",
    "\n",
    "def get_locs(url, rect):\n",
    "    # adjust the parameters we send so we are using the new rectangle\n",
    "    lat_centre = 0.5 * (rect[0] + rect[1])\n",
    "    lng_centre = 0.5 * (rect[2] + rect[3])\n",
    "    lat_ne = rect[0]\n",
    "    lat_sw = rect[1]\n",
    "    lng_ne = rect[2]\n",
    "    lng_sw = rect[3]\n",
    "    params['latitude'] = lat_centre\n",
    "    params['longitude'] = lng_centre\n",
    "    params['latitudeNorthEast'] = lat_ne\n",
    "    params['latitudeSouthWest'] = lat_sw\n",
    "    params['longitudeNorthEast'] = lng_ne\n",
    "    params['longitudeSouthWest'] = lng_sw\n",
    "    # make a request\n",
    "    r = requests.post(url, json=params)\n",
    "    # read the text output\n",
    "    output = r.content.decode('utf-8')\n",
    "    # count the number of sites\n",
    "    num_sites = output.count('\"Id\":')\n",
    " \n",
    "    if num_sites < 100:\n",
    "        print(\"Found %d locations\"%num_sites)\n",
    "        counts.append( num_sites )\n",
    "        data.append(output)\n",
    "    else:\n",
    "        print(\"Found 100 locations in rectangle. Need to subdivide\")\n",
    "        [rect1, rect2] = nicedivide_rect( rect )\n",
    "        get_locs(url, rect1)\n",
    "        get_locs(url, rect2)\n",
    "\n",
    "    \n",
    "rect_au = [latMax, latMin, lngMax, lngMin]"
   ]
  },
  {
   "cell_type": "code",
   "execution_count": 104,
   "metadata": {
    "collapsed": false,
    "scrolled": true
   },
   "outputs": [
    {
     "name": "stdout",
     "output_type": "stream",
     "text": [
      "Found 100 locations in rectangle. Need to subdivide\n",
      "Found 100 locations in rectangle. Need to subdivide\n",
      "Found 100 locations in rectangle. Need to subdivide\n",
      "Found 100 locations in rectangle. Need to subdivide\n",
      "Found 100 locations in rectangle. Need to subdivide\n",
      "Found 7 locations\n",
      "Found 100 locations in rectangle. Need to subdivide\n",
      "Found 0 locations\n",
      "Found 100 locations in rectangle. Need to subdivide\n",
      "Found 0 locations\n",
      "Found 100 locations in rectangle. Need to subdivide\n",
      "Found 100 locations in rectangle. Need to subdivide\n",
      "Found 100 locations in rectangle. Need to subdivide\n",
      "Found 0 locations\n",
      "Found 100 locations in rectangle. Need to subdivide\n",
      "Found 0 locations\n",
      "Found 100 locations in rectangle. Need to subdivide\n",
      "Found 100 locations in rectangle. Need to subdivide\n",
      "Found 28 locations\n",
      "Found 82 locations\n",
      "Found 100 locations in rectangle. Need to subdivide\n",
      "Found 7 locations\n",
      "Found 99 locations\n",
      "Found 43 locations\n",
      "Found 0 locations\n",
      "Found 100 locations in rectangle. Need to subdivide\n",
      "Found 100 locations in rectangle. Need to subdivide\n",
      "Found 100 locations in rectangle. Need to subdivide\n",
      "Found 24 locations\n",
      "Found 100 locations in rectangle. Need to subdivide\n",
      "Found 100 locations in rectangle. Need to subdivide\n",
      "Found 100 locations in rectangle. Need to subdivide\n",
      "Found 12 locations\n",
      "Found 100 locations in rectangle. Need to subdivide\n",
      "Found 100 locations in rectangle. Need to subdivide\n",
      "Found 100 locations in rectangle. Need to subdivide\n",
      "Found 100 locations in rectangle. Need to subdivide\n",
      "Found 52 locations\n",
      "Found 79 locations\n",
      "Found 67 locations\n",
      "Found 3 locations\n",
      "Found 5 locations\n",
      "Found 5 locations\n",
      "Found 0 locations\n",
      "Found 100 locations in rectangle. Need to subdivide\n",
      "Found 100 locations in rectangle. Need to subdivide\n",
      "Found 0 locations\n",
      "Found 100 locations in rectangle. Need to subdivide\n",
      "Found 100 locations in rectangle. Need to subdivide\n",
      "Found 36 locations\n",
      "Found 100 locations in rectangle. Need to subdivide\n",
      "Found 2 locations\n",
      "Found 100 locations in rectangle. Need to subdivide\n",
      "Found 97 locations\n",
      "Found 14 locations\n",
      "Found 3 locations\n",
      "Found 0 locations\n",
      "Found 0 locations\n",
      "Found 2 locations\n",
      "Found 8 locations\n",
      "Found 100 locations in rectangle. Need to subdivide\n",
      "Found 100 locations in rectangle. Need to subdivide\n",
      "Found 0 locations\n",
      "Found 100 locations in rectangle. Need to subdivide\n",
      "Found 0 locations\n",
      "Found 100 locations in rectangle. Need to subdivide\n",
      "Found 4 locations\n",
      "Found 100 locations in rectangle. Need to subdivide\n",
      "Found 100 locations in rectangle. Need to subdivide\n",
      "Found 100 locations in rectangle. Need to subdivide\n",
      "Found 24 locations\n",
      "Found 100 locations in rectangle. Need to subdivide\n",
      "Found 2 locations\n",
      "Found 100 locations in rectangle. Need to subdivide\n",
      "Found 59 locations\n",
      "Found 100 locations in rectangle. Need to subdivide\n",
      "Found 7 locations\n",
      "Found 100 locations in rectangle. Need to subdivide\n",
      "Found 100 locations in rectangle. Need to subdivide\n",
      "Found 100 locations in rectangle. Need to subdivide\n",
      "Found 100 locations in rectangle. Need to subdivide\n",
      "Found 79 locations\n",
      "Found 56 locations\n",
      "Found 20 locations\n",
      "Found 0 locations\n",
      "Found 0 locations\n",
      "Found 6 locations\n",
      "Found 7 locations\n",
      "Found 9 locations\n"
     ]
    }
   ],
   "source": [
    "get_locs(url, rect_au)"
   ]
  },
  {
   "cell_type": "code",
   "execution_count": 107,
   "metadata": {
    "collapsed": false
   },
   "outputs": [
    {
     "name": "stdout",
     "output_type": "stream",
     "text": [
      "Found a total of 948 locations\n"
     ]
    }
   ],
   "source": [
    "# Print out the number of locations found\n",
    "print(\"Found a total of %d locations\"%sum(counts))\n",
    "\n",
    "# remove line breaks, tab spaces and newlines from the data and output to a file\n",
    "str_out = ''\n",
    "for i in data:\n",
    "    str_out += i\n",
    "    \n",
    "# delimit\n",
    "str_out = clean_str(str_out).replace('\"Id\":','*')\n",
    "f = open('BankWest-ATM-Scrape-070616.txt','w')\n",
    "f.write(clean_str(str_out))\n",
    "f.close()"
   ]
  },
  {
   "cell_type": "markdown",
   "metadata": {},
   "source": [
    "-------------------------------\n",
    "### RediATM\n",
    "\n",
    "Use GET requests with url and params\n",
    "\n",
    "API requires specifying a lat, lng pair along with a radius. It returns a maximum of 100 sites. Use recursion with discs.\n",
    "\n",
    "Algorithm:\n",
    "- Start with a circle at the centre of Australia with a radius that covers Australia.\n",
    "- Count number of locations within the circle\n",
    "    - If this number is less than 100 we have found all within the circle\n",
    "    - If not then divide the 4 subcircles which cover the original and repeat from previous step.\n",
    "- Note that this algorithm produces duplicates"
   ]
  },
  {
   "cell_type": "code",
   "execution_count": 191,
   "metadata": {
    "collapsed": false
   },
   "outputs": [],
   "source": [
    "import requests\n",
    "from math import pi, degrees, radians\n",
    "\n",
    "url = 'https://www.ehoundplatform.com/api/1.1/proximity_search'\n",
    "\n",
    "params = {'output': 'json', 'jsonp':'showLocs', 'lat': '-37.8194637', 'lon': '145.1534067999', 'count': '100',\n",
    "          'geo': 'undefined', 'service': 'undefined', 'max_distance': '0', 'filters': 'extra:eq:rediatm',\n",
    "          'logic':'', 'log_type': 'web', 'create_log': 'true', 'api_key': 'ra3354a55qw79up', 'custom_logic': 'undefined',\n",
    "          'ch': '9314'}\n",
    "\n",
    "# lat and lng for centre of Australia\n",
    "lat_centre, lng_centre = -27.246769, 135.122951\n",
    "\n",
    "# running counts and data for the requests made\n",
    "counts = []\n",
    "data = []\n",
    "\n",
    "# take a given circle and return 4 overlapping circles of smaller radius; circle is a list of the form\n",
    "# [lat, lng, radius]\n",
    "def nicedivide_circ(circ):\n",
    "    lat = radians(circ[0])\n",
    "    lng = radians(circ[1])\n",
    "    radius = circ[2]\n",
    "    circum_earth = 40 * (10**6)\n",
    "    \n",
    "    radius = radius / 1.414\n",
    "    \n",
    "    # note we normalise the distance we move by 40000km (the circumference of the Earth) so that it is in radians\n",
    "    # upper left\n",
    "    lat1, lng1 = get_latlng(lat, lng, radius * 2 * pi / float(40000), pi / 4)\n",
    "    \n",
    "    # upper right\n",
    "    lat2, lng2 = get_latlng(lat, lng, radius * 2 * pi / float(40000), 7*pi / 4)\n",
    "    \n",
    "    # lower left\n",
    "    lat3, lng3 = get_latlng(lat, lng, radius * 2 * pi / float(40000), 3*pi / 4)    \n",
    "    \n",
    "    # lower right\n",
    "    lat4, lng4 = get_latlng(lat, lng, radius * 2 * pi / float(40000), 5*pi / 4)\n",
    "    \n",
    "    return [ [degrees(lat1), degrees(lng1), radius], [degrees(lat2), degrees(lng2), radius], \n",
    "            [degrees(lat3), degrees(lng3), radius], [degrees(lat4), degrees(lng4), radius]]\n",
    "    \n",
    "def get_locs(url, circ):\n",
    "    lat = circ[0]\n",
    "    lng = circ[1]\n",
    "    radius = circ[2]\n",
    "    \n",
    "    params['lat'] = lat\n",
    "    params['lon'] = lng\n",
    "    params['max_distance'] = radius\n",
    "    \n",
    "    # make a request\n",
    "    page = requests.post(url, params=params)\n",
    "    \n",
    "    # read the text output\n",
    "    output = page.text\n",
    "    \n",
    "    # count the number of sites using the loc_id tag\n",
    "    num_sites = output.count('\"loc_id\":')\n",
    " \n",
    "    # count the number of sites found in the circle. If this number is less than 100 then we have found all\n",
    "    # inside the circle, otherwise we have to subdivide\n",
    "    if (num_sites < 100 and num_sites > 0):\n",
    "        print(\"Found %d locations\"%num_sites)\n",
    "        counts.append( num_sites )\n",
    "        data.append(output)\n",
    "    else:\n",
    "        print(\"Found %d locations in circle. Need to subdivide\"%num_sites)\n",
    "        circ1, circ2, circ3, circ4 = nicedivide_circ( circ )\n",
    "        get_locs(url, circ1)\n",
    "        get_locs(url, circ2)\n",
    "        get_locs(url, circ3)\n",
    "        get_locs(url, circ4)\n",
    "    \n",
    "circle_au = [lat_centre, lng_centre, 2500]"
   ]
  },
  {
   "cell_type": "code",
   "execution_count": 192,
   "metadata": {
    "collapsed": false
   },
   "outputs": [
    {
     "name": "stdout",
     "output_type": "stream",
     "text": [
      "Found 100 locations in circle. Need to subdivide\n",
      "Found 100 locations in circle. Need to subdivide\n",
      "Found 0 locations in circle. Need to subdivide\n",
      "Found 0 locations in circle. Need to subdivide\n",
      "Found 0 locations in circle. Need to subdivide\n",
      "Found 0 locations in circle. Need to subdivide\n",
      "Found 0 locations in circle. Need to subdivide\n",
      "Found 0 locations in circle. Need to subdivide\n",
      "Found 0 locations in circle. Need to subdivide\n",
      "Found 0 locations in circle. Need to subdivide\n",
      "Found 0 locations in circle. Need to subdivide\n",
      "Found 0 locations in circle. Need to subdivide\n"
     ]
    },
    {
     "ename": "KeyboardInterrupt",
     "evalue": "",
     "output_type": "error",
     "traceback": [
      "\u001b[0;31m---------------------------------------------------------------------------\u001b[0m",
      "\u001b[0;31mTypeError\u001b[0m                                 Traceback (most recent call last)",
      "\u001b[0;32m/Library/Frameworks/Python.framework/Versions/3.4/lib/python3.4/site-packages/requests/packages/urllib3/connectionpool.py\u001b[0m in \u001b[0;36m_make_request\u001b[0;34m(self, conn, method, url, timeout, **httplib_request_kw)\u001b[0m\n\u001b[1;32m    375\u001b[0m             \u001b[0;32mtry\u001b[0m\u001b[0;34m:\u001b[0m  \u001b[0;31m# Python 2.7, use buffering of HTTP responses\u001b[0m\u001b[0;34m\u001b[0m\u001b[0m\n\u001b[0;32m--> 376\u001b[0;31m                 \u001b[0mhttplib_response\u001b[0m \u001b[0;34m=\u001b[0m \u001b[0mconn\u001b[0m\u001b[0;34m.\u001b[0m\u001b[0mgetresponse\u001b[0m\u001b[0;34m(\u001b[0m\u001b[0mbuffering\u001b[0m\u001b[0;34m=\u001b[0m\u001b[0;32mTrue\u001b[0m\u001b[0;34m)\u001b[0m\u001b[0;34m\u001b[0m\u001b[0m\n\u001b[0m\u001b[1;32m    377\u001b[0m             \u001b[0;32mexcept\u001b[0m \u001b[0mTypeError\u001b[0m\u001b[0;34m:\u001b[0m  \u001b[0;31m# Python 2.6 and older\u001b[0m\u001b[0;34m\u001b[0m\u001b[0m\n",
      "\u001b[0;31mTypeError\u001b[0m: getresponse() got an unexpected keyword argument 'buffering'",
      "\nDuring handling of the above exception, another exception occurred:\n",
      "\u001b[0;31mKeyboardInterrupt\u001b[0m                         Traceback (most recent call last)",
      "\u001b[0;32m<ipython-input-192-374d571a9b6d>\u001b[0m in \u001b[0;36m<module>\u001b[0;34m()\u001b[0m\n\u001b[0;32m----> 1\u001b[0;31m \u001b[0mget_locs\u001b[0m\u001b[0;34m(\u001b[0m\u001b[0murl\u001b[0m\u001b[0;34m,\u001b[0m \u001b[0mcircle_au\u001b[0m\u001b[0;34m)\u001b[0m\u001b[0;34m\u001b[0m\u001b[0m\n\u001b[0m\u001b[1;32m      2\u001b[0m \u001b[0;34m\u001b[0m\u001b[0m\n\u001b[1;32m      3\u001b[0m \u001b[0;31m#r = requests.get(url, params=params)\u001b[0m\u001b[0;34m\u001b[0m\u001b[0;34m\u001b[0m\u001b[0m\n\u001b[1;32m      4\u001b[0m \u001b[0;31m#print(r.text[:1000])\u001b[0m\u001b[0;34m\u001b[0m\u001b[0;34m\u001b[0m\u001b[0m\n\u001b[1;32m      5\u001b[0m \u001b[0;31m#print(r.text.count('loc_id'))\u001b[0m\u001b[0;34m\u001b[0m\u001b[0;34m\u001b[0m\u001b[0m\n",
      "\u001b[0;32m<ipython-input-191-29c0bf75f4ae>\u001b[0m in \u001b[0;36mget_locs\u001b[0;34m(url, circ)\u001b[0m\n\u001b[1;32m     69\u001b[0m         \u001b[0mprint\u001b[0m\u001b[0;34m(\u001b[0m\u001b[0;34m\"Found %d locations in circle. Need to subdivide\"\u001b[0m\u001b[0;34m%\u001b[0m\u001b[0mnum_sites\u001b[0m\u001b[0;34m)\u001b[0m\u001b[0;34m\u001b[0m\u001b[0m\n\u001b[1;32m     70\u001b[0m         \u001b[0mcirc1\u001b[0m\u001b[0;34m,\u001b[0m \u001b[0mcirc2\u001b[0m\u001b[0;34m,\u001b[0m \u001b[0mcirc3\u001b[0m\u001b[0;34m,\u001b[0m \u001b[0mcirc4\u001b[0m \u001b[0;34m=\u001b[0m \u001b[0mnicedivide_circ\u001b[0m\u001b[0;34m(\u001b[0m \u001b[0mcirc\u001b[0m \u001b[0;34m)\u001b[0m\u001b[0;34m\u001b[0m\u001b[0m\n\u001b[0;32m---> 71\u001b[0;31m         \u001b[0mget_locs\u001b[0m\u001b[0;34m(\u001b[0m\u001b[0murl\u001b[0m\u001b[0;34m,\u001b[0m \u001b[0mcirc1\u001b[0m\u001b[0;34m)\u001b[0m\u001b[0;34m\u001b[0m\u001b[0m\n\u001b[0m\u001b[1;32m     72\u001b[0m         \u001b[0mget_locs\u001b[0m\u001b[0;34m(\u001b[0m\u001b[0murl\u001b[0m\u001b[0;34m,\u001b[0m \u001b[0mcirc2\u001b[0m\u001b[0;34m)\u001b[0m\u001b[0;34m\u001b[0m\u001b[0m\n\u001b[1;32m     73\u001b[0m         \u001b[0mget_locs\u001b[0m\u001b[0;34m(\u001b[0m\u001b[0murl\u001b[0m\u001b[0;34m,\u001b[0m \u001b[0mcirc3\u001b[0m\u001b[0;34m)\u001b[0m\u001b[0;34m\u001b[0m\u001b[0m\n",
      "\u001b[0;32m<ipython-input-191-29c0bf75f4ae>\u001b[0m in \u001b[0;36mget_locs\u001b[0;34m(url, circ)\u001b[0m\n\u001b[1;32m     69\u001b[0m         \u001b[0mprint\u001b[0m\u001b[0;34m(\u001b[0m\u001b[0;34m\"Found %d locations in circle. Need to subdivide\"\u001b[0m\u001b[0;34m%\u001b[0m\u001b[0mnum_sites\u001b[0m\u001b[0;34m)\u001b[0m\u001b[0;34m\u001b[0m\u001b[0m\n\u001b[1;32m     70\u001b[0m         \u001b[0mcirc1\u001b[0m\u001b[0;34m,\u001b[0m \u001b[0mcirc2\u001b[0m\u001b[0;34m,\u001b[0m \u001b[0mcirc3\u001b[0m\u001b[0;34m,\u001b[0m \u001b[0mcirc4\u001b[0m \u001b[0;34m=\u001b[0m \u001b[0mnicedivide_circ\u001b[0m\u001b[0;34m(\u001b[0m \u001b[0mcirc\u001b[0m \u001b[0;34m)\u001b[0m\u001b[0;34m\u001b[0m\u001b[0m\n\u001b[0;32m---> 71\u001b[0;31m         \u001b[0mget_locs\u001b[0m\u001b[0;34m(\u001b[0m\u001b[0murl\u001b[0m\u001b[0;34m,\u001b[0m \u001b[0mcirc1\u001b[0m\u001b[0;34m)\u001b[0m\u001b[0;34m\u001b[0m\u001b[0m\n\u001b[0m\u001b[1;32m     72\u001b[0m         \u001b[0mget_locs\u001b[0m\u001b[0;34m(\u001b[0m\u001b[0murl\u001b[0m\u001b[0;34m,\u001b[0m \u001b[0mcirc2\u001b[0m\u001b[0;34m)\u001b[0m\u001b[0;34m\u001b[0m\u001b[0m\n\u001b[1;32m     73\u001b[0m         \u001b[0mget_locs\u001b[0m\u001b[0;34m(\u001b[0m\u001b[0murl\u001b[0m\u001b[0;34m,\u001b[0m \u001b[0mcirc3\u001b[0m\u001b[0;34m)\u001b[0m\u001b[0;34m\u001b[0m\u001b[0m\n",
      "\u001b[0;32m<ipython-input-191-29c0bf75f4ae>\u001b[0m in \u001b[0;36mget_locs\u001b[0;34m(url, circ)\u001b[0m\n\u001b[1;32m     69\u001b[0m         \u001b[0mprint\u001b[0m\u001b[0;34m(\u001b[0m\u001b[0;34m\"Found %d locations in circle. Need to subdivide\"\u001b[0m\u001b[0;34m%\u001b[0m\u001b[0mnum_sites\u001b[0m\u001b[0;34m)\u001b[0m\u001b[0;34m\u001b[0m\u001b[0m\n\u001b[1;32m     70\u001b[0m         \u001b[0mcirc1\u001b[0m\u001b[0;34m,\u001b[0m \u001b[0mcirc2\u001b[0m\u001b[0;34m,\u001b[0m \u001b[0mcirc3\u001b[0m\u001b[0;34m,\u001b[0m \u001b[0mcirc4\u001b[0m \u001b[0;34m=\u001b[0m \u001b[0mnicedivide_circ\u001b[0m\u001b[0;34m(\u001b[0m \u001b[0mcirc\u001b[0m \u001b[0;34m)\u001b[0m\u001b[0;34m\u001b[0m\u001b[0m\n\u001b[0;32m---> 71\u001b[0;31m         \u001b[0mget_locs\u001b[0m\u001b[0;34m(\u001b[0m\u001b[0murl\u001b[0m\u001b[0;34m,\u001b[0m \u001b[0mcirc1\u001b[0m\u001b[0;34m)\u001b[0m\u001b[0;34m\u001b[0m\u001b[0m\n\u001b[0m\u001b[1;32m     72\u001b[0m         \u001b[0mget_locs\u001b[0m\u001b[0;34m(\u001b[0m\u001b[0murl\u001b[0m\u001b[0;34m,\u001b[0m \u001b[0mcirc2\u001b[0m\u001b[0;34m)\u001b[0m\u001b[0;34m\u001b[0m\u001b[0m\n\u001b[1;32m     73\u001b[0m         \u001b[0mget_locs\u001b[0m\u001b[0;34m(\u001b[0m\u001b[0murl\u001b[0m\u001b[0;34m,\u001b[0m \u001b[0mcirc3\u001b[0m\u001b[0;34m)\u001b[0m\u001b[0;34m\u001b[0m\u001b[0m\n",
      "\u001b[0;32m<ipython-input-191-29c0bf75f4ae>\u001b[0m in \u001b[0;36mget_locs\u001b[0;34m(url, circ)\u001b[0m\n\u001b[1;32m     69\u001b[0m         \u001b[0mprint\u001b[0m\u001b[0;34m(\u001b[0m\u001b[0;34m\"Found %d locations in circle. Need to subdivide\"\u001b[0m\u001b[0;34m%\u001b[0m\u001b[0mnum_sites\u001b[0m\u001b[0;34m)\u001b[0m\u001b[0;34m\u001b[0m\u001b[0m\n\u001b[1;32m     70\u001b[0m         \u001b[0mcirc1\u001b[0m\u001b[0;34m,\u001b[0m \u001b[0mcirc2\u001b[0m\u001b[0;34m,\u001b[0m \u001b[0mcirc3\u001b[0m\u001b[0;34m,\u001b[0m \u001b[0mcirc4\u001b[0m \u001b[0;34m=\u001b[0m \u001b[0mnicedivide_circ\u001b[0m\u001b[0;34m(\u001b[0m \u001b[0mcirc\u001b[0m \u001b[0;34m)\u001b[0m\u001b[0;34m\u001b[0m\u001b[0m\n\u001b[0;32m---> 71\u001b[0;31m         \u001b[0mget_locs\u001b[0m\u001b[0;34m(\u001b[0m\u001b[0murl\u001b[0m\u001b[0;34m,\u001b[0m \u001b[0mcirc1\u001b[0m\u001b[0;34m)\u001b[0m\u001b[0;34m\u001b[0m\u001b[0m\n\u001b[0m\u001b[1;32m     72\u001b[0m         \u001b[0mget_locs\u001b[0m\u001b[0;34m(\u001b[0m\u001b[0murl\u001b[0m\u001b[0;34m,\u001b[0m \u001b[0mcirc2\u001b[0m\u001b[0;34m)\u001b[0m\u001b[0;34m\u001b[0m\u001b[0m\n\u001b[1;32m     73\u001b[0m         \u001b[0mget_locs\u001b[0m\u001b[0;34m(\u001b[0m\u001b[0murl\u001b[0m\u001b[0;34m,\u001b[0m \u001b[0mcirc3\u001b[0m\u001b[0;34m)\u001b[0m\u001b[0;34m\u001b[0m\u001b[0m\n",
      "\u001b[0;32m<ipython-input-191-29c0bf75f4ae>\u001b[0m in \u001b[0;36mget_locs\u001b[0;34m(url, circ)\u001b[0m\n\u001b[1;32m     69\u001b[0m         \u001b[0mprint\u001b[0m\u001b[0;34m(\u001b[0m\u001b[0;34m\"Found %d locations in circle. Need to subdivide\"\u001b[0m\u001b[0;34m%\u001b[0m\u001b[0mnum_sites\u001b[0m\u001b[0;34m)\u001b[0m\u001b[0;34m\u001b[0m\u001b[0m\n\u001b[1;32m     70\u001b[0m         \u001b[0mcirc1\u001b[0m\u001b[0;34m,\u001b[0m \u001b[0mcirc2\u001b[0m\u001b[0;34m,\u001b[0m \u001b[0mcirc3\u001b[0m\u001b[0;34m,\u001b[0m \u001b[0mcirc4\u001b[0m \u001b[0;34m=\u001b[0m \u001b[0mnicedivide_circ\u001b[0m\u001b[0;34m(\u001b[0m \u001b[0mcirc\u001b[0m \u001b[0;34m)\u001b[0m\u001b[0;34m\u001b[0m\u001b[0m\n\u001b[0;32m---> 71\u001b[0;31m         \u001b[0mget_locs\u001b[0m\u001b[0;34m(\u001b[0m\u001b[0murl\u001b[0m\u001b[0;34m,\u001b[0m \u001b[0mcirc1\u001b[0m\u001b[0;34m)\u001b[0m\u001b[0;34m\u001b[0m\u001b[0m\n\u001b[0m\u001b[1;32m     72\u001b[0m         \u001b[0mget_locs\u001b[0m\u001b[0;34m(\u001b[0m\u001b[0murl\u001b[0m\u001b[0;34m,\u001b[0m \u001b[0mcirc2\u001b[0m\u001b[0;34m)\u001b[0m\u001b[0;34m\u001b[0m\u001b[0m\n\u001b[1;32m     73\u001b[0m         \u001b[0mget_locs\u001b[0m\u001b[0;34m(\u001b[0m\u001b[0murl\u001b[0m\u001b[0;34m,\u001b[0m \u001b[0mcirc3\u001b[0m\u001b[0;34m)\u001b[0m\u001b[0;34m\u001b[0m\u001b[0m\n",
      "\u001b[0;32m<ipython-input-191-29c0bf75f4ae>\u001b[0m in \u001b[0;36mget_locs\u001b[0;34m(url, circ)\u001b[0m\n\u001b[1;32m     69\u001b[0m         \u001b[0mprint\u001b[0m\u001b[0;34m(\u001b[0m\u001b[0;34m\"Found %d locations in circle. Need to subdivide\"\u001b[0m\u001b[0;34m%\u001b[0m\u001b[0mnum_sites\u001b[0m\u001b[0;34m)\u001b[0m\u001b[0;34m\u001b[0m\u001b[0m\n\u001b[1;32m     70\u001b[0m         \u001b[0mcirc1\u001b[0m\u001b[0;34m,\u001b[0m \u001b[0mcirc2\u001b[0m\u001b[0;34m,\u001b[0m \u001b[0mcirc3\u001b[0m\u001b[0;34m,\u001b[0m \u001b[0mcirc4\u001b[0m \u001b[0;34m=\u001b[0m \u001b[0mnicedivide_circ\u001b[0m\u001b[0;34m(\u001b[0m \u001b[0mcirc\u001b[0m \u001b[0;34m)\u001b[0m\u001b[0;34m\u001b[0m\u001b[0m\n\u001b[0;32m---> 71\u001b[0;31m         \u001b[0mget_locs\u001b[0m\u001b[0;34m(\u001b[0m\u001b[0murl\u001b[0m\u001b[0;34m,\u001b[0m \u001b[0mcirc1\u001b[0m\u001b[0;34m)\u001b[0m\u001b[0;34m\u001b[0m\u001b[0m\n\u001b[0m\u001b[1;32m     72\u001b[0m         \u001b[0mget_locs\u001b[0m\u001b[0;34m(\u001b[0m\u001b[0murl\u001b[0m\u001b[0;34m,\u001b[0m \u001b[0mcirc2\u001b[0m\u001b[0;34m)\u001b[0m\u001b[0;34m\u001b[0m\u001b[0m\n\u001b[1;32m     73\u001b[0m         \u001b[0mget_locs\u001b[0m\u001b[0;34m(\u001b[0m\u001b[0murl\u001b[0m\u001b[0;34m,\u001b[0m \u001b[0mcirc3\u001b[0m\u001b[0;34m)\u001b[0m\u001b[0;34m\u001b[0m\u001b[0m\n",
      "\u001b[0;32m<ipython-input-191-29c0bf75f4ae>\u001b[0m in \u001b[0;36mget_locs\u001b[0;34m(url, circ)\u001b[0m\n\u001b[1;32m     69\u001b[0m         \u001b[0mprint\u001b[0m\u001b[0;34m(\u001b[0m\u001b[0;34m\"Found %d locations in circle. Need to subdivide\"\u001b[0m\u001b[0;34m%\u001b[0m\u001b[0mnum_sites\u001b[0m\u001b[0;34m)\u001b[0m\u001b[0;34m\u001b[0m\u001b[0m\n\u001b[1;32m     70\u001b[0m         \u001b[0mcirc1\u001b[0m\u001b[0;34m,\u001b[0m \u001b[0mcirc2\u001b[0m\u001b[0;34m,\u001b[0m \u001b[0mcirc3\u001b[0m\u001b[0;34m,\u001b[0m \u001b[0mcirc4\u001b[0m \u001b[0;34m=\u001b[0m \u001b[0mnicedivide_circ\u001b[0m\u001b[0;34m(\u001b[0m \u001b[0mcirc\u001b[0m \u001b[0;34m)\u001b[0m\u001b[0;34m\u001b[0m\u001b[0m\n\u001b[0;32m---> 71\u001b[0;31m         \u001b[0mget_locs\u001b[0m\u001b[0;34m(\u001b[0m\u001b[0murl\u001b[0m\u001b[0;34m,\u001b[0m \u001b[0mcirc1\u001b[0m\u001b[0;34m)\u001b[0m\u001b[0;34m\u001b[0m\u001b[0m\n\u001b[0m\u001b[1;32m     72\u001b[0m         \u001b[0mget_locs\u001b[0m\u001b[0;34m(\u001b[0m\u001b[0murl\u001b[0m\u001b[0;34m,\u001b[0m \u001b[0mcirc2\u001b[0m\u001b[0;34m)\u001b[0m\u001b[0;34m\u001b[0m\u001b[0m\n\u001b[1;32m     73\u001b[0m         \u001b[0mget_locs\u001b[0m\u001b[0;34m(\u001b[0m\u001b[0murl\u001b[0m\u001b[0;34m,\u001b[0m \u001b[0mcirc3\u001b[0m\u001b[0;34m)\u001b[0m\u001b[0;34m\u001b[0m\u001b[0m\n",
      "\u001b[0;32m<ipython-input-191-29c0bf75f4ae>\u001b[0m in \u001b[0;36mget_locs\u001b[0;34m(url, circ)\u001b[0m\n\u001b[1;32m     69\u001b[0m         \u001b[0mprint\u001b[0m\u001b[0;34m(\u001b[0m\u001b[0;34m\"Found %d locations in circle. Need to subdivide\"\u001b[0m\u001b[0;34m%\u001b[0m\u001b[0mnum_sites\u001b[0m\u001b[0;34m)\u001b[0m\u001b[0;34m\u001b[0m\u001b[0m\n\u001b[1;32m     70\u001b[0m         \u001b[0mcirc1\u001b[0m\u001b[0;34m,\u001b[0m \u001b[0mcirc2\u001b[0m\u001b[0;34m,\u001b[0m \u001b[0mcirc3\u001b[0m\u001b[0;34m,\u001b[0m \u001b[0mcirc4\u001b[0m \u001b[0;34m=\u001b[0m \u001b[0mnicedivide_circ\u001b[0m\u001b[0;34m(\u001b[0m \u001b[0mcirc\u001b[0m \u001b[0;34m)\u001b[0m\u001b[0;34m\u001b[0m\u001b[0m\n\u001b[0;32m---> 71\u001b[0;31m         \u001b[0mget_locs\u001b[0m\u001b[0;34m(\u001b[0m\u001b[0murl\u001b[0m\u001b[0;34m,\u001b[0m \u001b[0mcirc1\u001b[0m\u001b[0;34m)\u001b[0m\u001b[0;34m\u001b[0m\u001b[0m\n\u001b[0m\u001b[1;32m     72\u001b[0m         \u001b[0mget_locs\u001b[0m\u001b[0;34m(\u001b[0m\u001b[0murl\u001b[0m\u001b[0;34m,\u001b[0m \u001b[0mcirc2\u001b[0m\u001b[0;34m)\u001b[0m\u001b[0;34m\u001b[0m\u001b[0m\n\u001b[1;32m     73\u001b[0m         \u001b[0mget_locs\u001b[0m\u001b[0;34m(\u001b[0m\u001b[0murl\u001b[0m\u001b[0;34m,\u001b[0m \u001b[0mcirc3\u001b[0m\u001b[0;34m)\u001b[0m\u001b[0;34m\u001b[0m\u001b[0m\n",
      "\u001b[0;32m<ipython-input-191-29c0bf75f4ae>\u001b[0m in \u001b[0;36mget_locs\u001b[0;34m(url, circ)\u001b[0m\n\u001b[1;32m     69\u001b[0m         \u001b[0mprint\u001b[0m\u001b[0;34m(\u001b[0m\u001b[0;34m\"Found %d locations in circle. Need to subdivide\"\u001b[0m\u001b[0;34m%\u001b[0m\u001b[0mnum_sites\u001b[0m\u001b[0;34m)\u001b[0m\u001b[0;34m\u001b[0m\u001b[0m\n\u001b[1;32m     70\u001b[0m         \u001b[0mcirc1\u001b[0m\u001b[0;34m,\u001b[0m \u001b[0mcirc2\u001b[0m\u001b[0;34m,\u001b[0m \u001b[0mcirc3\u001b[0m\u001b[0;34m,\u001b[0m \u001b[0mcirc4\u001b[0m \u001b[0;34m=\u001b[0m \u001b[0mnicedivide_circ\u001b[0m\u001b[0;34m(\u001b[0m \u001b[0mcirc\u001b[0m \u001b[0;34m)\u001b[0m\u001b[0;34m\u001b[0m\u001b[0m\n\u001b[0;32m---> 71\u001b[0;31m         \u001b[0mget_locs\u001b[0m\u001b[0;34m(\u001b[0m\u001b[0murl\u001b[0m\u001b[0;34m,\u001b[0m \u001b[0mcirc1\u001b[0m\u001b[0;34m)\u001b[0m\u001b[0;34m\u001b[0m\u001b[0m\n\u001b[0m\u001b[1;32m     72\u001b[0m         \u001b[0mget_locs\u001b[0m\u001b[0;34m(\u001b[0m\u001b[0murl\u001b[0m\u001b[0;34m,\u001b[0m \u001b[0mcirc2\u001b[0m\u001b[0;34m)\u001b[0m\u001b[0;34m\u001b[0m\u001b[0m\n\u001b[1;32m     73\u001b[0m         \u001b[0mget_locs\u001b[0m\u001b[0;34m(\u001b[0m\u001b[0murl\u001b[0m\u001b[0;34m,\u001b[0m \u001b[0mcirc3\u001b[0m\u001b[0;34m)\u001b[0m\u001b[0;34m\u001b[0m\u001b[0m\n",
      "\u001b[0;32m<ipython-input-191-29c0bf75f4ae>\u001b[0m in \u001b[0;36mget_locs\u001b[0;34m(url, circ)\u001b[0m\n\u001b[1;32m     69\u001b[0m         \u001b[0mprint\u001b[0m\u001b[0;34m(\u001b[0m\u001b[0;34m\"Found %d locations in circle. Need to subdivide\"\u001b[0m\u001b[0;34m%\u001b[0m\u001b[0mnum_sites\u001b[0m\u001b[0;34m)\u001b[0m\u001b[0;34m\u001b[0m\u001b[0m\n\u001b[1;32m     70\u001b[0m         \u001b[0mcirc1\u001b[0m\u001b[0;34m,\u001b[0m \u001b[0mcirc2\u001b[0m\u001b[0;34m,\u001b[0m \u001b[0mcirc3\u001b[0m\u001b[0;34m,\u001b[0m \u001b[0mcirc4\u001b[0m \u001b[0;34m=\u001b[0m \u001b[0mnicedivide_circ\u001b[0m\u001b[0;34m(\u001b[0m \u001b[0mcirc\u001b[0m \u001b[0;34m)\u001b[0m\u001b[0;34m\u001b[0m\u001b[0m\n\u001b[0;32m---> 71\u001b[0;31m         \u001b[0mget_locs\u001b[0m\u001b[0;34m(\u001b[0m\u001b[0murl\u001b[0m\u001b[0;34m,\u001b[0m \u001b[0mcirc1\u001b[0m\u001b[0;34m)\u001b[0m\u001b[0;34m\u001b[0m\u001b[0m\n\u001b[0m\u001b[1;32m     72\u001b[0m         \u001b[0mget_locs\u001b[0m\u001b[0;34m(\u001b[0m\u001b[0murl\u001b[0m\u001b[0;34m,\u001b[0m \u001b[0mcirc2\u001b[0m\u001b[0;34m)\u001b[0m\u001b[0;34m\u001b[0m\u001b[0m\n\u001b[1;32m     73\u001b[0m         \u001b[0mget_locs\u001b[0m\u001b[0;34m(\u001b[0m\u001b[0murl\u001b[0m\u001b[0;34m,\u001b[0m \u001b[0mcirc3\u001b[0m\u001b[0;34m)\u001b[0m\u001b[0;34m\u001b[0m\u001b[0m\n",
      "\u001b[0;32m<ipython-input-191-29c0bf75f4ae>\u001b[0m in \u001b[0;36mget_locs\u001b[0;34m(url, circ)\u001b[0m\n\u001b[1;32m     69\u001b[0m         \u001b[0mprint\u001b[0m\u001b[0;34m(\u001b[0m\u001b[0;34m\"Found %d locations in circle. Need to subdivide\"\u001b[0m\u001b[0;34m%\u001b[0m\u001b[0mnum_sites\u001b[0m\u001b[0;34m)\u001b[0m\u001b[0;34m\u001b[0m\u001b[0m\n\u001b[1;32m     70\u001b[0m         \u001b[0mcirc1\u001b[0m\u001b[0;34m,\u001b[0m \u001b[0mcirc2\u001b[0m\u001b[0;34m,\u001b[0m \u001b[0mcirc3\u001b[0m\u001b[0;34m,\u001b[0m \u001b[0mcirc4\u001b[0m \u001b[0;34m=\u001b[0m \u001b[0mnicedivide_circ\u001b[0m\u001b[0;34m(\u001b[0m \u001b[0mcirc\u001b[0m \u001b[0;34m)\u001b[0m\u001b[0;34m\u001b[0m\u001b[0m\n\u001b[0;32m---> 71\u001b[0;31m         \u001b[0mget_locs\u001b[0m\u001b[0;34m(\u001b[0m\u001b[0murl\u001b[0m\u001b[0;34m,\u001b[0m \u001b[0mcirc1\u001b[0m\u001b[0;34m)\u001b[0m\u001b[0;34m\u001b[0m\u001b[0m\n\u001b[0m\u001b[1;32m     72\u001b[0m         \u001b[0mget_locs\u001b[0m\u001b[0;34m(\u001b[0m\u001b[0murl\u001b[0m\u001b[0;34m,\u001b[0m \u001b[0mcirc2\u001b[0m\u001b[0;34m)\u001b[0m\u001b[0;34m\u001b[0m\u001b[0m\n\u001b[1;32m     73\u001b[0m         \u001b[0mget_locs\u001b[0m\u001b[0;34m(\u001b[0m\u001b[0murl\u001b[0m\u001b[0;34m,\u001b[0m \u001b[0mcirc3\u001b[0m\u001b[0;34m)\u001b[0m\u001b[0;34m\u001b[0m\u001b[0m\n",
      "\u001b[0;32m<ipython-input-191-29c0bf75f4ae>\u001b[0m in \u001b[0;36mget_locs\u001b[0;34m(url, circ)\u001b[0m\n\u001b[1;32m     69\u001b[0m         \u001b[0mprint\u001b[0m\u001b[0;34m(\u001b[0m\u001b[0;34m\"Found %d locations in circle. Need to subdivide\"\u001b[0m\u001b[0;34m%\u001b[0m\u001b[0mnum_sites\u001b[0m\u001b[0;34m)\u001b[0m\u001b[0;34m\u001b[0m\u001b[0m\n\u001b[1;32m     70\u001b[0m         \u001b[0mcirc1\u001b[0m\u001b[0;34m,\u001b[0m \u001b[0mcirc2\u001b[0m\u001b[0;34m,\u001b[0m \u001b[0mcirc3\u001b[0m\u001b[0;34m,\u001b[0m \u001b[0mcirc4\u001b[0m \u001b[0;34m=\u001b[0m \u001b[0mnicedivide_circ\u001b[0m\u001b[0;34m(\u001b[0m \u001b[0mcirc\u001b[0m \u001b[0;34m)\u001b[0m\u001b[0;34m\u001b[0m\u001b[0m\n\u001b[0;32m---> 71\u001b[0;31m         \u001b[0mget_locs\u001b[0m\u001b[0;34m(\u001b[0m\u001b[0murl\u001b[0m\u001b[0;34m,\u001b[0m \u001b[0mcirc1\u001b[0m\u001b[0;34m)\u001b[0m\u001b[0;34m\u001b[0m\u001b[0m\n\u001b[0m\u001b[1;32m     72\u001b[0m         \u001b[0mget_locs\u001b[0m\u001b[0;34m(\u001b[0m\u001b[0murl\u001b[0m\u001b[0;34m,\u001b[0m \u001b[0mcirc2\u001b[0m\u001b[0;34m)\u001b[0m\u001b[0;34m\u001b[0m\u001b[0m\n\u001b[1;32m     73\u001b[0m         \u001b[0mget_locs\u001b[0m\u001b[0;34m(\u001b[0m\u001b[0murl\u001b[0m\u001b[0;34m,\u001b[0m \u001b[0mcirc3\u001b[0m\u001b[0;34m)\u001b[0m\u001b[0;34m\u001b[0m\u001b[0m\n",
      "\u001b[0;32m<ipython-input-191-29c0bf75f4ae>\u001b[0m in \u001b[0;36mget_locs\u001b[0;34m(url, circ)\u001b[0m\n\u001b[1;32m     52\u001b[0m \u001b[0;34m\u001b[0m\u001b[0m\n\u001b[1;32m     53\u001b[0m     \u001b[0;31m# make a request\u001b[0m\u001b[0;34m\u001b[0m\u001b[0;34m\u001b[0m\u001b[0m\n\u001b[0;32m---> 54\u001b[0;31m     \u001b[0mpage\u001b[0m \u001b[0;34m=\u001b[0m \u001b[0mrequests\u001b[0m\u001b[0;34m.\u001b[0m\u001b[0mpost\u001b[0m\u001b[0;34m(\u001b[0m\u001b[0murl\u001b[0m\u001b[0;34m,\u001b[0m \u001b[0mparams\u001b[0m\u001b[0;34m=\u001b[0m\u001b[0mparams\u001b[0m\u001b[0;34m)\u001b[0m\u001b[0;34m\u001b[0m\u001b[0m\n\u001b[0m\u001b[1;32m     55\u001b[0m \u001b[0;34m\u001b[0m\u001b[0m\n\u001b[1;32m     56\u001b[0m     \u001b[0;31m# read the text output\u001b[0m\u001b[0;34m\u001b[0m\u001b[0;34m\u001b[0m\u001b[0m\n",
      "\u001b[0;32m/Library/Frameworks/Python.framework/Versions/3.4/lib/python3.4/site-packages/requests/api.py\u001b[0m in \u001b[0;36mpost\u001b[0;34m(url, data, json, **kwargs)\u001b[0m\n\u001b[1;32m    105\u001b[0m     \"\"\"\n\u001b[1;32m    106\u001b[0m \u001b[0;34m\u001b[0m\u001b[0m\n\u001b[0;32m--> 107\u001b[0;31m     \u001b[0;32mreturn\u001b[0m \u001b[0mrequest\u001b[0m\u001b[0;34m(\u001b[0m\u001b[0;34m'post'\u001b[0m\u001b[0;34m,\u001b[0m \u001b[0murl\u001b[0m\u001b[0;34m,\u001b[0m \u001b[0mdata\u001b[0m\u001b[0;34m=\u001b[0m\u001b[0mdata\u001b[0m\u001b[0;34m,\u001b[0m \u001b[0mjson\u001b[0m\u001b[0;34m=\u001b[0m\u001b[0mjson\u001b[0m\u001b[0;34m,\u001b[0m \u001b[0;34m**\u001b[0m\u001b[0mkwargs\u001b[0m\u001b[0;34m)\u001b[0m\u001b[0;34m\u001b[0m\u001b[0m\n\u001b[0m\u001b[1;32m    108\u001b[0m \u001b[0;34m\u001b[0m\u001b[0m\n\u001b[1;32m    109\u001b[0m \u001b[0;34m\u001b[0m\u001b[0m\n",
      "\u001b[0;32m/Library/Frameworks/Python.framework/Versions/3.4/lib/python3.4/site-packages/requests/api.py\u001b[0m in \u001b[0;36mrequest\u001b[0;34m(method, url, **kwargs)\u001b[0m\n\u001b[1;32m     51\u001b[0m     \u001b[0;31m# cases, and look like a memory leak in others.\u001b[0m\u001b[0;34m\u001b[0m\u001b[0;34m\u001b[0m\u001b[0m\n\u001b[1;32m     52\u001b[0m     \u001b[0;32mwith\u001b[0m \u001b[0msessions\u001b[0m\u001b[0;34m.\u001b[0m\u001b[0mSession\u001b[0m\u001b[0;34m(\u001b[0m\u001b[0;34m)\u001b[0m \u001b[0;32mas\u001b[0m \u001b[0msession\u001b[0m\u001b[0;34m:\u001b[0m\u001b[0;34m\u001b[0m\u001b[0m\n\u001b[0;32m---> 53\u001b[0;31m         \u001b[0;32mreturn\u001b[0m \u001b[0msession\u001b[0m\u001b[0;34m.\u001b[0m\u001b[0mrequest\u001b[0m\u001b[0;34m(\u001b[0m\u001b[0mmethod\u001b[0m\u001b[0;34m=\u001b[0m\u001b[0mmethod\u001b[0m\u001b[0;34m,\u001b[0m \u001b[0murl\u001b[0m\u001b[0;34m=\u001b[0m\u001b[0murl\u001b[0m\u001b[0;34m,\u001b[0m \u001b[0;34m**\u001b[0m\u001b[0mkwargs\u001b[0m\u001b[0;34m)\u001b[0m\u001b[0;34m\u001b[0m\u001b[0m\n\u001b[0m\u001b[1;32m     54\u001b[0m \u001b[0;34m\u001b[0m\u001b[0m\n\u001b[1;32m     55\u001b[0m \u001b[0;34m\u001b[0m\u001b[0m\n",
      "\u001b[0;32m/Library/Frameworks/Python.framework/Versions/3.4/lib/python3.4/site-packages/requests/sessions.py\u001b[0m in \u001b[0;36mrequest\u001b[0;34m(self, method, url, params, data, headers, cookies, files, auth, timeout, allow_redirects, proxies, hooks, stream, verify, cert, json)\u001b[0m\n\u001b[1;32m    466\u001b[0m         }\n\u001b[1;32m    467\u001b[0m         \u001b[0msend_kwargs\u001b[0m\u001b[0;34m.\u001b[0m\u001b[0mupdate\u001b[0m\u001b[0;34m(\u001b[0m\u001b[0msettings\u001b[0m\u001b[0;34m)\u001b[0m\u001b[0;34m\u001b[0m\u001b[0m\n\u001b[0;32m--> 468\u001b[0;31m         \u001b[0mresp\u001b[0m \u001b[0;34m=\u001b[0m \u001b[0mself\u001b[0m\u001b[0;34m.\u001b[0m\u001b[0msend\u001b[0m\u001b[0;34m(\u001b[0m\u001b[0mprep\u001b[0m\u001b[0;34m,\u001b[0m \u001b[0;34m**\u001b[0m\u001b[0msend_kwargs\u001b[0m\u001b[0;34m)\u001b[0m\u001b[0;34m\u001b[0m\u001b[0m\n\u001b[0m\u001b[1;32m    469\u001b[0m \u001b[0;34m\u001b[0m\u001b[0m\n\u001b[1;32m    470\u001b[0m         \u001b[0;32mreturn\u001b[0m \u001b[0mresp\u001b[0m\u001b[0;34m\u001b[0m\u001b[0m\n",
      "\u001b[0;32m/Library/Frameworks/Python.framework/Versions/3.4/lib/python3.4/site-packages/requests/sessions.py\u001b[0m in \u001b[0;36msend\u001b[0;34m(self, request, **kwargs)\u001b[0m\n\u001b[1;32m    574\u001b[0m \u001b[0;34m\u001b[0m\u001b[0m\n\u001b[1;32m    575\u001b[0m         \u001b[0;31m# Send the request\u001b[0m\u001b[0;34m\u001b[0m\u001b[0;34m\u001b[0m\u001b[0m\n\u001b[0;32m--> 576\u001b[0;31m         \u001b[0mr\u001b[0m \u001b[0;34m=\u001b[0m \u001b[0madapter\u001b[0m\u001b[0;34m.\u001b[0m\u001b[0msend\u001b[0m\u001b[0;34m(\u001b[0m\u001b[0mrequest\u001b[0m\u001b[0;34m,\u001b[0m \u001b[0;34m**\u001b[0m\u001b[0mkwargs\u001b[0m\u001b[0;34m)\u001b[0m\u001b[0;34m\u001b[0m\u001b[0m\n\u001b[0m\u001b[1;32m    577\u001b[0m \u001b[0;34m\u001b[0m\u001b[0m\n\u001b[1;32m    578\u001b[0m         \u001b[0;31m# Total elapsed time of the request (approximately)\u001b[0m\u001b[0;34m\u001b[0m\u001b[0;34m\u001b[0m\u001b[0m\n",
      "\u001b[0;32m/Library/Frameworks/Python.framework/Versions/3.4/lib/python3.4/site-packages/requests/adapters.py\u001b[0m in \u001b[0;36msend\u001b[0;34m(self, request, stream, timeout, verify, cert, proxies)\u001b[0m\n\u001b[1;32m    374\u001b[0m                     \u001b[0mdecode_content\u001b[0m\u001b[0;34m=\u001b[0m\u001b[0;32mFalse\u001b[0m\u001b[0;34m,\u001b[0m\u001b[0;34m\u001b[0m\u001b[0m\n\u001b[1;32m    375\u001b[0m                     \u001b[0mretries\u001b[0m\u001b[0;34m=\u001b[0m\u001b[0mself\u001b[0m\u001b[0;34m.\u001b[0m\u001b[0mmax_retries\u001b[0m\u001b[0;34m,\u001b[0m\u001b[0;34m\u001b[0m\u001b[0m\n\u001b[0;32m--> 376\u001b[0;31m                     \u001b[0mtimeout\u001b[0m\u001b[0;34m=\u001b[0m\u001b[0mtimeout\u001b[0m\u001b[0;34m\u001b[0m\u001b[0m\n\u001b[0m\u001b[1;32m    377\u001b[0m                 )\n\u001b[1;32m    378\u001b[0m \u001b[0;34m\u001b[0m\u001b[0m\n",
      "\u001b[0;32m/Library/Frameworks/Python.framework/Versions/3.4/lib/python3.4/site-packages/requests/packages/urllib3/connectionpool.py\u001b[0m in \u001b[0;36murlopen\u001b[0;34m(self, method, url, body, headers, retries, redirect, assert_same_host, timeout, pool_timeout, release_conn, **response_kw)\u001b[0m\n\u001b[1;32m    557\u001b[0m             httplib_response = self._make_request(conn, method, url,\n\u001b[1;32m    558\u001b[0m                                                   \u001b[0mtimeout\u001b[0m\u001b[0;34m=\u001b[0m\u001b[0mtimeout_obj\u001b[0m\u001b[0;34m,\u001b[0m\u001b[0;34m\u001b[0m\u001b[0m\n\u001b[0;32m--> 559\u001b[0;31m                                                   body=body, headers=headers)\n\u001b[0m\u001b[1;32m    560\u001b[0m \u001b[0;34m\u001b[0m\u001b[0m\n\u001b[1;32m    561\u001b[0m             \u001b[0;31m# If we're going to release the connection in ``finally:``, then\u001b[0m\u001b[0;34m\u001b[0m\u001b[0;34m\u001b[0m\u001b[0m\n",
      "\u001b[0;32m/Library/Frameworks/Python.framework/Versions/3.4/lib/python3.4/site-packages/requests/packages/urllib3/connectionpool.py\u001b[0m in \u001b[0;36m_make_request\u001b[0;34m(self, conn, method, url, timeout, **httplib_request_kw)\u001b[0m\n\u001b[1;32m    376\u001b[0m                 \u001b[0mhttplib_response\u001b[0m \u001b[0;34m=\u001b[0m \u001b[0mconn\u001b[0m\u001b[0;34m.\u001b[0m\u001b[0mgetresponse\u001b[0m\u001b[0;34m(\u001b[0m\u001b[0mbuffering\u001b[0m\u001b[0;34m=\u001b[0m\u001b[0;32mTrue\u001b[0m\u001b[0;34m)\u001b[0m\u001b[0;34m\u001b[0m\u001b[0m\n\u001b[1;32m    377\u001b[0m             \u001b[0;32mexcept\u001b[0m \u001b[0mTypeError\u001b[0m\u001b[0;34m:\u001b[0m  \u001b[0;31m# Python 2.6 and older\u001b[0m\u001b[0;34m\u001b[0m\u001b[0m\n\u001b[0;32m--> 378\u001b[0;31m                 \u001b[0mhttplib_response\u001b[0m \u001b[0;34m=\u001b[0m \u001b[0mconn\u001b[0m\u001b[0;34m.\u001b[0m\u001b[0mgetresponse\u001b[0m\u001b[0;34m(\u001b[0m\u001b[0;34m)\u001b[0m\u001b[0;34m\u001b[0m\u001b[0m\n\u001b[0m\u001b[1;32m    379\u001b[0m         \u001b[0;32mexcept\u001b[0m \u001b[0;34m(\u001b[0m\u001b[0mSocketTimeout\u001b[0m\u001b[0;34m,\u001b[0m \u001b[0mBaseSSLError\u001b[0m\u001b[0;34m,\u001b[0m \u001b[0mSocketError\u001b[0m\u001b[0;34m)\u001b[0m \u001b[0;32mas\u001b[0m \u001b[0me\u001b[0m\u001b[0;34m:\u001b[0m\u001b[0;34m\u001b[0m\u001b[0m\n\u001b[1;32m    380\u001b[0m             \u001b[0mself\u001b[0m\u001b[0;34m.\u001b[0m\u001b[0m_raise_timeout\u001b[0m\u001b[0;34m(\u001b[0m\u001b[0merr\u001b[0m\u001b[0;34m=\u001b[0m\u001b[0me\u001b[0m\u001b[0;34m,\u001b[0m \u001b[0murl\u001b[0m\u001b[0;34m=\u001b[0m\u001b[0murl\u001b[0m\u001b[0;34m,\u001b[0m \u001b[0mtimeout_value\u001b[0m\u001b[0;34m=\u001b[0m\u001b[0mread_timeout\u001b[0m\u001b[0;34m)\u001b[0m\u001b[0;34m\u001b[0m\u001b[0m\n",
      "\u001b[0;32m/Library/Frameworks/Python.framework/Versions/3.4/lib/python3.4/http/client.py\u001b[0m in \u001b[0;36mgetresponse\u001b[0;34m(self)\u001b[0m\n\u001b[1;32m   1170\u001b[0m             \u001b[0mresponse\u001b[0m \u001b[0;34m=\u001b[0m \u001b[0mself\u001b[0m\u001b[0;34m.\u001b[0m\u001b[0mresponse_class\u001b[0m\u001b[0;34m(\u001b[0m\u001b[0mself\u001b[0m\u001b[0;34m.\u001b[0m\u001b[0msock\u001b[0m\u001b[0;34m,\u001b[0m \u001b[0mmethod\u001b[0m\u001b[0;34m=\u001b[0m\u001b[0mself\u001b[0m\u001b[0;34m.\u001b[0m\u001b[0m_method\u001b[0m\u001b[0;34m)\u001b[0m\u001b[0;34m\u001b[0m\u001b[0m\n\u001b[1;32m   1171\u001b[0m \u001b[0;34m\u001b[0m\u001b[0m\n\u001b[0;32m-> 1172\u001b[0;31m         \u001b[0mresponse\u001b[0m\u001b[0;34m.\u001b[0m\u001b[0mbegin\u001b[0m\u001b[0;34m(\u001b[0m\u001b[0;34m)\u001b[0m\u001b[0;34m\u001b[0m\u001b[0m\n\u001b[0m\u001b[1;32m   1173\u001b[0m         \u001b[0;32massert\u001b[0m \u001b[0mresponse\u001b[0m\u001b[0;34m.\u001b[0m\u001b[0mwill_close\u001b[0m \u001b[0;34m!=\u001b[0m \u001b[0m_UNKNOWN\u001b[0m\u001b[0;34m\u001b[0m\u001b[0m\n\u001b[1;32m   1174\u001b[0m         \u001b[0mself\u001b[0m\u001b[0;34m.\u001b[0m\u001b[0m__state\u001b[0m \u001b[0;34m=\u001b[0m \u001b[0m_CS_IDLE\u001b[0m\u001b[0;34m\u001b[0m\u001b[0m\n",
      "\u001b[0;32m/Library/Frameworks/Python.framework/Versions/3.4/lib/python3.4/http/client.py\u001b[0m in \u001b[0;36mbegin\u001b[0;34m(self)\u001b[0m\n\u001b[1;32m    349\u001b[0m         \u001b[0;31m# read until we get a non-100 response\u001b[0m\u001b[0;34m\u001b[0m\u001b[0;34m\u001b[0m\u001b[0m\n\u001b[1;32m    350\u001b[0m         \u001b[0;32mwhile\u001b[0m \u001b[0;32mTrue\u001b[0m\u001b[0;34m:\u001b[0m\u001b[0;34m\u001b[0m\u001b[0m\n\u001b[0;32m--> 351\u001b[0;31m             \u001b[0mversion\u001b[0m\u001b[0;34m,\u001b[0m \u001b[0mstatus\u001b[0m\u001b[0;34m,\u001b[0m \u001b[0mreason\u001b[0m \u001b[0;34m=\u001b[0m \u001b[0mself\u001b[0m\u001b[0;34m.\u001b[0m\u001b[0m_read_status\u001b[0m\u001b[0;34m(\u001b[0m\u001b[0;34m)\u001b[0m\u001b[0;34m\u001b[0m\u001b[0m\n\u001b[0m\u001b[1;32m    352\u001b[0m             \u001b[0;32mif\u001b[0m \u001b[0mstatus\u001b[0m \u001b[0;34m!=\u001b[0m \u001b[0mCONTINUE\u001b[0m\u001b[0;34m:\u001b[0m\u001b[0;34m\u001b[0m\u001b[0m\n\u001b[1;32m    353\u001b[0m                 \u001b[0;32mbreak\u001b[0m\u001b[0;34m\u001b[0m\u001b[0m\n",
      "\u001b[0;32m/Library/Frameworks/Python.framework/Versions/3.4/lib/python3.4/http/client.py\u001b[0m in \u001b[0;36m_read_status\u001b[0;34m(self)\u001b[0m\n\u001b[1;32m    311\u001b[0m \u001b[0;34m\u001b[0m\u001b[0m\n\u001b[1;32m    312\u001b[0m     \u001b[0;32mdef\u001b[0m \u001b[0m_read_status\u001b[0m\u001b[0;34m(\u001b[0m\u001b[0mself\u001b[0m\u001b[0;34m)\u001b[0m\u001b[0;34m:\u001b[0m\u001b[0;34m\u001b[0m\u001b[0m\n\u001b[0;32m--> 313\u001b[0;31m         \u001b[0mline\u001b[0m \u001b[0;34m=\u001b[0m \u001b[0mstr\u001b[0m\u001b[0;34m(\u001b[0m\u001b[0mself\u001b[0m\u001b[0;34m.\u001b[0m\u001b[0mfp\u001b[0m\u001b[0;34m.\u001b[0m\u001b[0mreadline\u001b[0m\u001b[0;34m(\u001b[0m\u001b[0m_MAXLINE\u001b[0m \u001b[0;34m+\u001b[0m \u001b[0;36m1\u001b[0m\u001b[0;34m)\u001b[0m\u001b[0;34m,\u001b[0m \u001b[0;34m\"iso-8859-1\"\u001b[0m\u001b[0;34m)\u001b[0m\u001b[0;34m\u001b[0m\u001b[0m\n\u001b[0m\u001b[1;32m    314\u001b[0m         \u001b[0;32mif\u001b[0m \u001b[0mlen\u001b[0m\u001b[0;34m(\u001b[0m\u001b[0mline\u001b[0m\u001b[0;34m)\u001b[0m \u001b[0;34m>\u001b[0m \u001b[0m_MAXLINE\u001b[0m\u001b[0;34m:\u001b[0m\u001b[0;34m\u001b[0m\u001b[0m\n\u001b[1;32m    315\u001b[0m             \u001b[0;32mraise\u001b[0m \u001b[0mLineTooLong\u001b[0m\u001b[0;34m(\u001b[0m\u001b[0;34m\"status line\"\u001b[0m\u001b[0;34m)\u001b[0m\u001b[0;34m\u001b[0m\u001b[0m\n",
      "\u001b[0;32m/Library/Frameworks/Python.framework/Versions/3.4/lib/python3.4/socket.py\u001b[0m in \u001b[0;36mreadinto\u001b[0;34m(self, b)\u001b[0m\n\u001b[1;32m    369\u001b[0m         \u001b[0;32mwhile\u001b[0m \u001b[0;32mTrue\u001b[0m\u001b[0;34m:\u001b[0m\u001b[0;34m\u001b[0m\u001b[0m\n\u001b[1;32m    370\u001b[0m             \u001b[0;32mtry\u001b[0m\u001b[0;34m:\u001b[0m\u001b[0;34m\u001b[0m\u001b[0m\n\u001b[0;32m--> 371\u001b[0;31m                 \u001b[0;32mreturn\u001b[0m \u001b[0mself\u001b[0m\u001b[0;34m.\u001b[0m\u001b[0m_sock\u001b[0m\u001b[0;34m.\u001b[0m\u001b[0mrecv_into\u001b[0m\u001b[0;34m(\u001b[0m\u001b[0mb\u001b[0m\u001b[0;34m)\u001b[0m\u001b[0;34m\u001b[0m\u001b[0m\n\u001b[0m\u001b[1;32m    372\u001b[0m             \u001b[0;32mexcept\u001b[0m \u001b[0mtimeout\u001b[0m\u001b[0;34m:\u001b[0m\u001b[0;34m\u001b[0m\u001b[0m\n\u001b[1;32m    373\u001b[0m                 \u001b[0mself\u001b[0m\u001b[0;34m.\u001b[0m\u001b[0m_timeout_occurred\u001b[0m \u001b[0;34m=\u001b[0m \u001b[0;32mTrue\u001b[0m\u001b[0;34m\u001b[0m\u001b[0m\n",
      "\u001b[0;32m/Library/Frameworks/Python.framework/Versions/3.4/lib/python3.4/ssl.py\u001b[0m in \u001b[0;36mrecv_into\u001b[0;34m(self, buffer, nbytes, flags)\u001b[0m\n\u001b[1;32m    744\u001b[0m                   \u001b[0;34m\"non-zero flags not allowed in calls to recv_into() on %s\"\u001b[0m \u001b[0;34m%\u001b[0m\u001b[0;34m\u001b[0m\u001b[0m\n\u001b[1;32m    745\u001b[0m                   self.__class__)\n\u001b[0;32m--> 746\u001b[0;31m             \u001b[0;32mreturn\u001b[0m \u001b[0mself\u001b[0m\u001b[0;34m.\u001b[0m\u001b[0mread\u001b[0m\u001b[0;34m(\u001b[0m\u001b[0mnbytes\u001b[0m\u001b[0;34m,\u001b[0m \u001b[0mbuffer\u001b[0m\u001b[0;34m)\u001b[0m\u001b[0;34m\u001b[0m\u001b[0m\n\u001b[0m\u001b[1;32m    747\u001b[0m         \u001b[0;32melse\u001b[0m\u001b[0;34m:\u001b[0m\u001b[0;34m\u001b[0m\u001b[0m\n\u001b[1;32m    748\u001b[0m             \u001b[0;32mreturn\u001b[0m \u001b[0msocket\u001b[0m\u001b[0;34m.\u001b[0m\u001b[0mrecv_into\u001b[0m\u001b[0;34m(\u001b[0m\u001b[0mself\u001b[0m\u001b[0;34m,\u001b[0m \u001b[0mbuffer\u001b[0m\u001b[0;34m,\u001b[0m \u001b[0mnbytes\u001b[0m\u001b[0;34m,\u001b[0m \u001b[0mflags\u001b[0m\u001b[0;34m)\u001b[0m\u001b[0;34m\u001b[0m\u001b[0m\n",
      "\u001b[0;32m/Library/Frameworks/Python.framework/Versions/3.4/lib/python3.4/ssl.py\u001b[0m in \u001b[0;36mread\u001b[0;34m(self, len, buffer)\u001b[0m\n\u001b[1;32m    616\u001b[0m         \u001b[0;32mtry\u001b[0m\u001b[0;34m:\u001b[0m\u001b[0;34m\u001b[0m\u001b[0m\n\u001b[1;32m    617\u001b[0m             \u001b[0;32mif\u001b[0m \u001b[0mbuffer\u001b[0m \u001b[0;32mis\u001b[0m \u001b[0;32mnot\u001b[0m \u001b[0;32mNone\u001b[0m\u001b[0;34m:\u001b[0m\u001b[0;34m\u001b[0m\u001b[0m\n\u001b[0;32m--> 618\u001b[0;31m                 \u001b[0mv\u001b[0m \u001b[0;34m=\u001b[0m \u001b[0mself\u001b[0m\u001b[0;34m.\u001b[0m\u001b[0m_sslobj\u001b[0m\u001b[0;34m.\u001b[0m\u001b[0mread\u001b[0m\u001b[0;34m(\u001b[0m\u001b[0mlen\u001b[0m\u001b[0;34m,\u001b[0m \u001b[0mbuffer\u001b[0m\u001b[0;34m)\u001b[0m\u001b[0;34m\u001b[0m\u001b[0m\n\u001b[0m\u001b[1;32m    619\u001b[0m             \u001b[0;32melse\u001b[0m\u001b[0;34m:\u001b[0m\u001b[0;34m\u001b[0m\u001b[0m\n\u001b[1;32m    620\u001b[0m                 \u001b[0mv\u001b[0m \u001b[0;34m=\u001b[0m \u001b[0mself\u001b[0m\u001b[0;34m.\u001b[0m\u001b[0m_sslobj\u001b[0m\u001b[0;34m.\u001b[0m\u001b[0mread\u001b[0m\u001b[0;34m(\u001b[0m\u001b[0mlen\u001b[0m \u001b[0;32mor\u001b[0m \u001b[0;36m1024\u001b[0m\u001b[0;34m)\u001b[0m\u001b[0;34m\u001b[0m\u001b[0m\n",
      "\u001b[0;31mKeyboardInterrupt\u001b[0m: "
     ]
    }
   ],
   "source": [
    "get_locs(url, circle_au)\n"
   ]
  },
  {
   "cell_type": "code",
   "execution_count": 135,
   "metadata": {
    "collapsed": false
   },
   "outputs": [],
   "source": [
    "url = 'https://www.ehoundplatform.com/api/1.1/proximity_search'\n",
    "params = {'output': 'json', 'jsonp':'showLocs', 'lat': '-37.8194637', 'lon': '145.1534067999', 'count': '100',\n",
    "          'geo': 'undefined', 'service': 'undefined', 'max_distance': '0', 'filters': 'extra:eq:rediatm',\n",
    "          'logic':'', 'log_type': 'web', 'create_log': 'true', 'api_key': 'ra3354a55qw79up', 'custom_logic': 'undefined',\n",
    "          'ch': '9314'}\n",
    "\n",
    "params['max_distance'] = 10000\n",
    "page = requests.get(url, params=params)\n"
   ]
  },
  {
   "cell_type": "code",
   "execution_count": 136,
   "metadata": {
    "collapsed": false
   },
   "outputs": [
    {
     "name": "stdout",
     "output_type": "stream",
     "text": [
      "100\n"
     ]
    }
   ],
   "source": [
    "print(page.text.count('loc_id'))"
   ]
  },
  {
   "cell_type": "markdown",
   "metadata": {},
   "source": [
    "-----------------------------------\n",
    "### Bank of Queensland\n",
    "This seems to work similarly to RediATM. The maximum number of locations returned by a request is 600 we again we use a recursion similar to RediATM. Note that the request will return locations of RediATMs aswell as BOQ ATMs."
   ]
  },
  {
   "cell_type": "code",
   "execution_count": 187,
   "metadata": {
    "collapsed": false
   },
   "outputs": [
    {
     "name": "stdout",
     "output_type": "stream",
     "text": [
      "{\"d\":{\"__type\":\"GeoLocation.Location.BoundedBankwestLocations\",\"Locations\":[{\"__type\":\"GeoLocation.Location.BankwestLocation\",\"Id\":\"1292487398973\",\"FinancialInstitution\":\"BW\",\"Type\":\"ATM\",\"TrueType\":\"ATM\",\"Address\":\"Corner Ashley Drive & Mcbryde Cres\",\"Suburb\":\"Wanniassa\",\"State\":\"ACT\",\"Postcode\":\"2903\",\"Access\":\"Available 24/7\",\"AccessNotes\":\"24 hours 7 days a week\",\"Deposit\":\"Non -deposit\",\"Region\":\"Interstate\",\"NumberOfAtm\":\"1\",\"Facilities\":[\"Non-Deposit\",\"Self Select PIN\",\"Available 24 hours a day\"],\"FacilityNotes\":[],\"Bsb\":\"\",\"SelfSelectPin\":\"Self Select PIN\",\"HlsImage\":\"\",\"MobilePhone\":\"\",\"Name\":\"7-Eleven Wanniassa\",\"Longitude\":149.10159,\"Latitude\":-35.40508,\"Distance\":485.87219785573222,\"WithinRange\":true,\"BusinessHours\":{\"Mon\":{\"OpenAt\":\"\",\"CloseAt\":\"\"},\"Tue\":{\"OpenAt\":\"\",\"CloseAt\":\"\"},\"Wed\":{\"OpenAt\":\"\",\"CloseAt\":\"\"},\"Thu\":{\"OpenAt\":\"\",\"CloseAt\":\"\"},\"Fri\":{\"OpenAt\":\"\",\"CloseAt\":\"\"},\"Sat\":{\"OpenAt\":\"\",\"CloseAt\":\"\"},\"Sun\":{\"OpenAt\":\"\",\"CloseAt\":\"\"}}},{\"__type\":\"GeoLocation.Locat\n"
     ]
    }
   ],
   "source": [
    "\n",
    "print(str_out[:1000])"
   ]
  },
  {
   "cell_type": "code",
   "execution_count": 15,
   "metadata": {
    "collapsed": true
   },
   "outputs": [],
   "source": [
    "import requests\n",
    "\n",
    "url = 'http://find.boq.com.au/ziumsystem/xml.asp'\n",
    "params = {\"environmentid\": \"635\", \"originstate\": \"\", \"originx\": \"153.028145\", \"originy\": \"-27.468054\", \n",
    "         \"locationid\": \"\", \"groupid\": \"883\", \"useglobalpriority\": \"1\"}\n",
    "\n"
   ]
  },
  {
   "cell_type": "code",
   "execution_count": null,
   "metadata": {
    "collapsed": true
   },
   "outputs": [],
   "source": []
  }
 ],
 "metadata": {
  "kernelspec": {
   "display_name": "Python 2",
   "language": "python",
   "name": "python2"
  },
  "language_info": {
   "codemirror_mode": {
    "name": "ipython",
    "version": 2
   },
   "file_extension": ".py",
   "mimetype": "text/x-python",
   "name": "python",
   "nbconvert_exporter": "python",
   "pygments_lexer": "ipython2",
   "version": "2.7.13"
  }
 },
 "nbformat": 4,
 "nbformat_minor": 0
}
